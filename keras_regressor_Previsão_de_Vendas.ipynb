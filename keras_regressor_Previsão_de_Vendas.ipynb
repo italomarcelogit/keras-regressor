{
  "nbformat": 4,
  "nbformat_minor": 0,
  "metadata": {
    "colab": {
      "name": "keras-regressor-Previsão de Vendas",
      "provenance": [],
      "collapsed_sections": [],
      "authorship_tag": "ABX9TyMZAz/QZuRinTcrprRoyM99",
      "include_colab_link": true
    },
    "kernelspec": {
      "name": "python3",
      "display_name": "Python 3"
    },
    "language_info": {
      "name": "python"
    }
  },
  "cells": [
    {
      "cell_type": "markdown",
      "metadata": {
        "id": "view-in-github",
        "colab_type": "text"
      },
      "source": [
        "<a href=\"https://colab.research.google.com/github/italomarcelogit/keras-regressor/blob/main/keras_regressor_Previs%C3%A3o_de_Vendas.ipynb\" target=\"_parent\"><img src=\"https://colab.research.google.com/assets/colab-badge.svg\" alt=\"Open In Colab\"/></a>"
      ]
    },
    {
      "cell_type": "markdown",
      "metadata": {
        "id": "5TEAj2um4UKL"
      },
      "source": [
        "# **TENSORFLOW - keras**\n",
        "Exemplo de previsão de vendas utilizando features de tempo e valor total de vendas agrupados mensalmente"
      ]
    },
    {
      "cell_type": "code",
      "metadata": {
        "id": "UXb_4RWIg4sl",
        "colab": {
          "base_uri": "https://localhost:8080/"
        },
        "outputId": "7f4fb1c9-12ae-4676-d6fc-e2e8b55e72e7"
      },
      "source": [
        "# bibliotecas\n",
        "import pandas as pd\n",
        "import numpy as np\n",
        "from datetime import datetime\n",
        "import plotly.graph_objects as go\n",
        "import tensorflow as tf\n",
        "from tensorflow import keras\n",
        "from tensorflow.keras import layers\n",
        "print(tf.__version__)"
      ],
      "execution_count": 1,
      "outputs": [
        {
          "output_type": "stream",
          "name": "stdout",
          "text": [
            "2.6.0\n"
          ]
        }
      ]
    },
    {
      "cell_type": "markdown",
      "metadata": {
        "id": "v3HIaQrM4Y-Q"
      },
      "source": [
        "# **Dataset**"
      ]
    },
    {
      "cell_type": "code",
      "metadata": {
        "colab": {
          "base_uri": "https://localhost:8080/",
          "height": 203
        },
        "id": "ENOdTsj8hHEe",
        "outputId": "48532fe7-ead4-4213-93e3-f8245fcdc9d2"
      },
      "source": [
        "df = pd.read_csv('https://raw.githubusercontent.com/italomarcelogit/keras-regressor/main/dados.csv', sep=';')\n",
        "df.head()"
      ],
      "execution_count": 2,
      "outputs": [
        {
          "output_type": "execute_result",
          "data": {
            "text/html": [
              "<div>\n",
              "<style scoped>\n",
              "    .dataframe tbody tr th:only-of-type {\n",
              "        vertical-align: middle;\n",
              "    }\n",
              "\n",
              "    .dataframe tbody tr th {\n",
              "        vertical-align: top;\n",
              "    }\n",
              "\n",
              "    .dataframe thead th {\n",
              "        text-align: right;\n",
              "    }\n",
              "</style>\n",
              "<table border=\"1\" class=\"dataframe\">\n",
              "  <thead>\n",
              "    <tr style=\"text-align: right;\">\n",
              "      <th></th>\n",
              "      <th>ds</th>\n",
              "      <th>y</th>\n",
              "      <th>y1</th>\n",
              "      <th>y2</th>\n",
              "      <th>y3</th>\n",
              "      <th>y4</th>\n",
              "      <th>y5</th>\n",
              "      <th>y6</th>\n",
              "    </tr>\n",
              "  </thead>\n",
              "  <tbody>\n",
              "    <tr>\n",
              "      <th>0</th>\n",
              "      <td>2000-01-01</td>\n",
              "      <td>750.0</td>\n",
              "      <td>100.0</td>\n",
              "      <td>100.0</td>\n",
              "      <td>150.0</td>\n",
              "      <td>150.0</td>\n",
              "      <td>130.0</td>\n",
              "      <td>120.0</td>\n",
              "    </tr>\n",
              "    <tr>\n",
              "      <th>1</th>\n",
              "      <td>2000-02-01</td>\n",
              "      <td>750.0</td>\n",
              "      <td>100.0</td>\n",
              "      <td>100.0</td>\n",
              "      <td>150.0</td>\n",
              "      <td>150.0</td>\n",
              "      <td>130.0</td>\n",
              "      <td>120.0</td>\n",
              "    </tr>\n",
              "    <tr>\n",
              "      <th>2</th>\n",
              "      <td>2000-03-01</td>\n",
              "      <td>1000.0</td>\n",
              "      <td>145.0</td>\n",
              "      <td>145.0</td>\n",
              "      <td>200.0</td>\n",
              "      <td>200.0</td>\n",
              "      <td>150.0</td>\n",
              "      <td>160.0</td>\n",
              "    </tr>\n",
              "    <tr>\n",
              "      <th>3</th>\n",
              "      <td>2000-04-01</td>\n",
              "      <td>1000.0</td>\n",
              "      <td>145.0</td>\n",
              "      <td>145.0</td>\n",
              "      <td>200.0</td>\n",
              "      <td>200.0</td>\n",
              "      <td>150.0</td>\n",
              "      <td>160.0</td>\n",
              "    </tr>\n",
              "    <tr>\n",
              "      <th>4</th>\n",
              "      <td>2000-05-01</td>\n",
              "      <td>1000.0</td>\n",
              "      <td>145.0</td>\n",
              "      <td>145.0</td>\n",
              "      <td>200.0</td>\n",
              "      <td>200.0</td>\n",
              "      <td>150.0</td>\n",
              "      <td>160.0</td>\n",
              "    </tr>\n",
              "  </tbody>\n",
              "</table>\n",
              "</div>"
            ],
            "text/plain": [
              "           ds       y     y1     y2     y3     y4     y5     y6\n",
              "0  2000-01-01   750.0  100.0  100.0  150.0  150.0  130.0  120.0\n",
              "1  2000-02-01   750.0  100.0  100.0  150.0  150.0  130.0  120.0\n",
              "2  2000-03-01  1000.0  145.0  145.0  200.0  200.0  150.0  160.0\n",
              "3  2000-04-01  1000.0  145.0  145.0  200.0  200.0  150.0  160.0\n",
              "4  2000-05-01  1000.0  145.0  145.0  200.0  200.0  150.0  160.0"
            ]
          },
          "metadata": {},
          "execution_count": 2
        }
      ]
    },
    {
      "cell_type": "code",
      "metadata": {
        "colab": {
          "base_uri": "https://localhost:8080/",
          "height": 542
        },
        "id": "zUwNMtSmik-5",
        "outputId": "657d2a02-e0ee-4383-86db-dee532b30137"
      },
      "source": [
        "# função para gerar gráfico scatter, utilizando plotly\n",
        "def scatter(data, x, y, txt_titulo='', txt_xaxis='', txt_yaxis=''):\n",
        "  # fig = go.Figure(data=go.Scatter(x=df[x], y=df[y], mode='lines'))\n",
        "  fig = go.Figure()\n",
        "  for f in x:\n",
        "    for l in y:\n",
        "      fig.add_trace(go.Scatter(x=data[f], y=data[l],\n",
        "                      mode='lines+markers',\n",
        "                      name=l))\n",
        "  fig.update_layout(title=txt_titulo,\n",
        "                    xaxis_title=txt_xaxis,\n",
        "                    yaxis_title=txt_yaxis,\n",
        "                    template='plotly_white',\n",
        "                    xaxis = dict(tickangle=80)\n",
        "                    )\n",
        "  fig.show()\n",
        "\n",
        "# exibir valores das vendas realizadas\n",
        "scatter(df, x=['ds'], y=['y'], txt_titulo='Vendas Realizadas - História',\n",
        "        txt_xaxis='Período', txt_yaxis='Total de Vendas')"
      ],
      "execution_count": 3,
      "outputs": [
        {
          "output_type": "display_data",
          "data": {
            "text/html": [
              "<html>\n",
              "<head><meta charset=\"utf-8\" /></head>\n",
              "<body>\n",
              "    <div>\n",
              "            <script src=\"https://cdnjs.cloudflare.com/ajax/libs/mathjax/2.7.5/MathJax.js?config=TeX-AMS-MML_SVG\"></script><script type=\"text/javascript\">if (window.MathJax) {MathJax.Hub.Config({SVG: {font: \"STIX-Web\"}});}</script>\n",
              "                <script type=\"text/javascript\">window.PlotlyConfig = {MathJaxConfig: 'local'};</script>\n",
              "        <script src=\"https://cdn.plot.ly/plotly-latest.min.js\"></script>    \n",
              "            <div id=\"9d726203-1d63-4f1e-b9e4-1240755786c0\" class=\"plotly-graph-div\" style=\"height:525px; width:100%;\"></div>\n",
              "            <script type=\"text/javascript\">\n",
              "                \n",
              "                    window.PLOTLYENV=window.PLOTLYENV || {};\n",
              "                    \n",
              "                if (document.getElementById(\"9d726203-1d63-4f1e-b9e4-1240755786c0\")) {\n",
              "                    Plotly.newPlot(\n",
              "                        '9d726203-1d63-4f1e-b9e4-1240755786c0',\n",
              "                        [{\"mode\": \"lines+markers\", \"name\": \"y\", \"type\": \"scatter\", \"x\": [\"2000-01-01\", \"2000-02-01\", \"2000-03-01\", \"2000-04-01\", \"2000-05-01\", \"2000-06-01\", \"2000-07-01\", \"2000-08-01\", \"2000-09-01\", \"2000-10-01\", \"2000-11-01\", \"2000-12-01\", \"2001-01-01\", \"2001-02-01\", \"2001-03-01\", \"2001-04-01\", \"2001-05-01\", \"2001-06-01\", \"2001-07-01\", \"2001-08-01\", \"2001-09-01\", \"2001-10-01\", \"2001-11-01\", \"2001-12-01\", \"2002-01-01\", \"2002-02-01\", \"2002-03-01\", \"2002-04-01\", \"2002-05-01\", \"2002-06-01\", \"2002-07-01\", \"2002-08-01\", \"2002-09-01\", \"2002-10-01\", \"2002-11-01\", \"2002-12-01\", \"2003-01-01\", \"2003-02-01\", \"2003-03-01\", \"2003-04-01\", \"2003-05-01\", \"2003-06-01\", \"2003-07-01\", \"2003-08-01\", \"2003-09-01\", \"2003-10-01\", \"2003-11-01\", \"2003-12-01\", \"2004-01-01\", \"2004-02-01\", \"2004-03-01\", \"2004-04-01\", \"2004-05-01\", \"2004-06-01\", \"2004-07-01\", \"2004-08-01\", \"2004-09-01\", \"2004-10-01\", \"2004-11-01\", \"2004-12-01\", \"2005-01-01\", \"2005-02-01\", \"2005-03-01\", \"2005-04-01\", \"2005-05-01\", \"2005-06-01\", \"2005-07-01\", \"2005-08-01\", \"2005-09-01\", \"2005-10-01\", \"2005-11-01\", \"2005-12-01\", \"2006-01-01\", \"2006-02-01\", \"2006-03-01\", \"2006-04-01\", \"2006-05-01\", \"2006-06-01\", \"2006-07-01\", \"2006-08-01\", \"2006-09-01\", \"2006-10-01\", \"2006-11-01\", \"2006-12-01\", \"2007-01-01\", \"2007-02-01\", \"2007-03-01\", \"2007-04-01\", \"2007-05-01\", \"2007-06-01\", \"2007-07-01\", \"2007-08-01\", \"2007-09-01\", \"2007-10-01\", \"2007-11-01\", \"2007-12-01\", \"2008-01-01\", \"2008-02-01\", \"2008-03-01\", \"2008-04-01\", \"2008-05-01\", \"2008-06-01\", \"2008-07-01\", \"2008-08-01\", \"2008-09-01\", \"2008-10-01\", \"2008-11-01\", \"2008-12-01\", \"2009-01-01\", \"2009-02-01\", \"2009-03-01\", \"2009-04-01\", \"2009-05-01\", \"2009-06-01\", \"2009-07-01\", \"2009-08-01\", \"2009-09-01\", \"2009-10-01\", \"2009-11-01\", \"2009-12-01\", \"2010-01-01\", \"2010-02-01\", \"2010-03-01\", \"2010-04-01\", \"2010-05-01\", \"2010-06-01\", \"2010-07-01\", \"2010-08-01\", \"2010-09-01\", \"2010-10-01\", \"2010-11-01\", \"2010-12-01\", \"2011-01-01\", \"2011-02-01\", \"2011-03-01\", \"2011-04-01\", \"2011-05-01\", \"2011-06-01\", \"2011-07-01\", \"2011-08-01\", \"2011-09-01\", \"2011-10-01\", \"2011-11-01\", \"2011-12-01\", \"2012-01-01\", \"2012-02-01\", \"2012-03-01\", \"2012-04-01\", \"2012-05-01\", \"2012-06-01\", \"2012-07-01\", \"2012-08-01\", \"2012-09-01\", \"2012-10-01\", \"2012-11-01\", \"2012-12-01\", \"2013-01-01\", \"2013-02-01\", \"2013-03-01\", \"2013-04-01\", \"2013-05-01\", \"2013-06-01\", \"2013-07-01\", \"2013-08-01\", \"2013-09-01\", \"2013-10-01\", \"2013-11-01\", \"2013-12-01\", \"2014-01-01\", \"2014-02-01\", \"2014-03-01\", \"2014-04-01\", \"2014-05-01\", \"2014-06-01\", \"2014-07-01\", \"2014-08-01\", \"2014-09-01\", \"2014-10-01\", \"2014-11-01\", \"2014-12-01\", \"2015-01-01\", \"2015-02-01\", \"2015-03-01\", \"2015-04-01\", \"2015-05-01\", \"2015-06-01\", \"2015-07-01\", \"2015-08-01\", \"2015-09-01\", \"2015-10-01\", \"2015-11-01\", \"2015-12-01\", \"2016-01-01\", \"2016-02-01\", \"2016-03-01\", \"2016-04-01\", \"2016-05-01\", \"2016-06-01\", \"2016-07-01\", \"2016-08-01\", \"2016-09-01\", \"2016-10-01\", \"2016-11-01\", \"2016-12-01\", \"2017-01-01\", \"2017-02-01\", \"2017-03-01\", \"2017-04-01\", \"2017-05-01\", \"2017-06-01\", \"2017-07-01\", \"2017-08-01\", \"2017-09-01\", \"2017-10-01\", \"2017-11-01\", \"2017-12-01\", \"2018-01-01\", \"2018-02-01\", \"2018-03-01\", \"2018-04-01\", \"2018-05-01\", \"2018-06-01\", \"2018-07-01\", \"2018-08-01\", \"2018-09-01\", \"2018-10-01\", \"2018-11-01\", \"2018-12-01\", \"2019-01-01\", \"2019-02-01\", \"2019-03-01\", \"2019-04-01\", \"2019-05-01\", \"2019-06-01\", \"2019-07-01\", \"2019-08-01\", \"2019-09-01\", \"2019-10-01\", \"2019-11-01\", \"2019-12-01\", \"2020-01-01\", \"2020-02-01\", \"2020-03-01\", \"2020-04-01\", \"2020-05-01\", \"2020-06-01\", \"2020-07-01\", \"2020-08-01\", \"2020-09-01\", \"2020-10-01\", \"2020-11-01\", \"2020-12-01\", \"2021-01-01\", \"2021-02-01\", \"2021-03-01\", \"2021-04-01\", \"2021-05-01\", \"2021-06-01\", \"2021-07-01\", \"2021-08-01\", \"2021-09-01\", \"2021-10-01\", \"2021-11-01\", \"2021-12-01\"], \"y\": [750.0, 750.0, 1000.0, 1000.0, 1000.0, 2000.0, 1000.0, 1000.0, 1000.0, 1000.0, 1000.0, 1500.0, 750.0, 750.0, 1000.0, 1000.0, 1000.0, 2000.0, 1000.0, 1000.0, 1000.0, 1000.0, 1000.0, 1500.0, 750.0, 750.0, 1000.0, 1000.0, 1000.0, 2000.0, 1000.0, 1000.0, 1000.0, 1000.0, 1000.0, 1500.0, 750.0, 750.0, 1000.0, 1000.0, 1000.0, 2000.0, 1000.0, 1000.0, 1000.0, 1000.0, 1000.0, 1500.0, 750.0, 750.0, 1000.0, 1000.0, 1000.0, 2000.0, 1000.0, 1000.0, 1000.0, 1000.0, 1000.0, 1500.0, 750.0, 750.0, 1000.0, 1000.0, 1000.0, 2000.0, 1000.0, 1000.0, 1000.0, 1000.0, 1000.0, 1500.0, 750.0, 750.0, 1000.0, 1000.0, 1000.0, 2000.0, 1000.0, 1000.0, 1000.0, 1000.0, 1000.0, 1500.0, 750.0, 750.0, 1000.0, 1000.0, 1000.0, 2000.0, 1000.0, 1000.0, 1000.0, 1000.0, 1000.0, 1500.0, 750.0, 750.0, 1000.0, 1000.0, 1000.0, 2000.0, 1000.0, 1000.0, 1000.0, 1000.0, 1000.0, 1500.0, 750.0, 750.0, 1000.0, 1000.0, 1000.0, 2000.0, 1000.0, 1000.0, 1000.0, 1000.0, 1000.0, 1500.0, 750.0, 750.0, 1000.0, 1000.0, 1000.0, 2000.0, 1000.0, 1000.0, 1000.0, 1000.0, 1000.0, 1500.0, 750.0, 750.0, 1000.0, 1000.0, 1000.0, 2000.0, 1000.0, 1000.0, 1000.0, 1000.0, 1000.0, 1500.0, 750.0, 750.0, 1000.0, 1000.0, 1000.0, 2000.0, 1000.0, 1000.0, 1000.0, 1000.0, 1000.0, 1500.0, 750.0, 750.0, 1000.0, 1000.0, 1000.0, 2000.0, 1000.0, 1000.0, 1000.0, 1000.0, 1000.0, 1500.0, 750.0, 750.0, 1000.0, 1000.0, 1000.0, 2000.0, 1000.0, 1000.0, 1000.0, 1000.0, 1000.0, 1500.0, 750.0, 750.0, 1000.0, 1000.0, 1000.0, 2000.0, 1000.0, 1000.0, 1000.0, 1000.0, 1000.0, 1500.0, 750.0, 750.0, 1000.0, 1000.0, 1000.0, 2000.0, 1000.0, 1000.0, 1000.0, 1000.0, 1000.0, 1500.0, 750.0, 750.0, 1000.0, 1000.0, 1000.0, 2000.0, 1000.0, 1000.0, 1000.0, 1000.0, 1000.0, 1500.0, 750.0, 750.0, 1000.0, 1000.0, 1000.0, 2000.0, 1000.0, 1000.0, 1000.0, 1000.0, 1000.0, 1500.0, 750.0, 750.0, 1000.0, 1000.0, 1000.0, 2000.0, 1000.0, 1000.0, 1000.0, 1000.0, 1000.0, 1500.0, 750.0, 750.0, 1000.0, 1000.0, 1000.0, 2000.0, 1000.0, 1000.0, 1000.0, 1000.0, 1000.0, 1500.0, 750.0, 750.0, 1000.0, 1000.0, 1000.0, 2000.0, 1000.0, 1000.0, 1000.0, 1000.0, 1000.0, 1500.0]}],\n",
              "                        {\"template\": {\"data\": {\"bar\": [{\"error_x\": {\"color\": \"#2a3f5f\"}, \"error_y\": {\"color\": \"#2a3f5f\"}, \"marker\": {\"line\": {\"color\": \"white\", \"width\": 0.5}}, \"type\": \"bar\"}], \"barpolar\": [{\"marker\": {\"line\": {\"color\": \"white\", \"width\": 0.5}}, \"type\": \"barpolar\"}], \"carpet\": [{\"aaxis\": {\"endlinecolor\": \"#2a3f5f\", \"gridcolor\": \"#C8D4E3\", \"linecolor\": \"#C8D4E3\", \"minorgridcolor\": \"#C8D4E3\", \"startlinecolor\": \"#2a3f5f\"}, \"baxis\": {\"endlinecolor\": \"#2a3f5f\", \"gridcolor\": \"#C8D4E3\", \"linecolor\": \"#C8D4E3\", \"minorgridcolor\": \"#C8D4E3\", \"startlinecolor\": \"#2a3f5f\"}, \"type\": \"carpet\"}], \"choropleth\": [{\"colorbar\": {\"outlinewidth\": 0, \"ticks\": \"\"}, \"type\": \"choropleth\"}], \"contour\": [{\"colorbar\": {\"outlinewidth\": 0, \"ticks\": \"\"}, \"colorscale\": [[0.0, \"#0d0887\"], [0.1111111111111111, \"#46039f\"], [0.2222222222222222, \"#7201a8\"], [0.3333333333333333, \"#9c179e\"], [0.4444444444444444, \"#bd3786\"], [0.5555555555555556, \"#d8576b\"], [0.6666666666666666, \"#ed7953\"], [0.7777777777777778, \"#fb9f3a\"], [0.8888888888888888, \"#fdca26\"], [1.0, \"#f0f921\"]], \"type\": \"contour\"}], \"contourcarpet\": [{\"colorbar\": {\"outlinewidth\": 0, \"ticks\": \"\"}, \"type\": \"contourcarpet\"}], \"heatmap\": [{\"colorbar\": {\"outlinewidth\": 0, \"ticks\": \"\"}, \"colorscale\": [[0.0, \"#0d0887\"], [0.1111111111111111, \"#46039f\"], [0.2222222222222222, \"#7201a8\"], [0.3333333333333333, \"#9c179e\"], [0.4444444444444444, \"#bd3786\"], [0.5555555555555556, \"#d8576b\"], [0.6666666666666666, \"#ed7953\"], [0.7777777777777778, \"#fb9f3a\"], [0.8888888888888888, \"#fdca26\"], [1.0, \"#f0f921\"]], \"type\": \"heatmap\"}], \"heatmapgl\": [{\"colorbar\": {\"outlinewidth\": 0, \"ticks\": \"\"}, \"colorscale\": [[0.0, \"#0d0887\"], [0.1111111111111111, \"#46039f\"], [0.2222222222222222, \"#7201a8\"], [0.3333333333333333, \"#9c179e\"], [0.4444444444444444, \"#bd3786\"], [0.5555555555555556, \"#d8576b\"], [0.6666666666666666, \"#ed7953\"], [0.7777777777777778, \"#fb9f3a\"], [0.8888888888888888, \"#fdca26\"], [1.0, \"#f0f921\"]], \"type\": \"heatmapgl\"}], \"histogram\": [{\"marker\": {\"colorbar\": {\"outlinewidth\": 0, \"ticks\": \"\"}}, \"type\": \"histogram\"}], \"histogram2d\": [{\"colorbar\": {\"outlinewidth\": 0, \"ticks\": \"\"}, \"colorscale\": [[0.0, \"#0d0887\"], [0.1111111111111111, \"#46039f\"], [0.2222222222222222, \"#7201a8\"], [0.3333333333333333, \"#9c179e\"], [0.4444444444444444, \"#bd3786\"], [0.5555555555555556, \"#d8576b\"], [0.6666666666666666, \"#ed7953\"], [0.7777777777777778, \"#fb9f3a\"], [0.8888888888888888, \"#fdca26\"], [1.0, \"#f0f921\"]], \"type\": \"histogram2d\"}], \"histogram2dcontour\": [{\"colorbar\": {\"outlinewidth\": 0, \"ticks\": \"\"}, \"colorscale\": [[0.0, \"#0d0887\"], [0.1111111111111111, \"#46039f\"], [0.2222222222222222, \"#7201a8\"], [0.3333333333333333, \"#9c179e\"], [0.4444444444444444, \"#bd3786\"], [0.5555555555555556, \"#d8576b\"], [0.6666666666666666, \"#ed7953\"], [0.7777777777777778, \"#fb9f3a\"], [0.8888888888888888, \"#fdca26\"], [1.0, \"#f0f921\"]], \"type\": \"histogram2dcontour\"}], \"mesh3d\": [{\"colorbar\": {\"outlinewidth\": 0, \"ticks\": \"\"}, \"type\": \"mesh3d\"}], \"parcoords\": [{\"line\": {\"colorbar\": {\"outlinewidth\": 0, \"ticks\": \"\"}}, \"type\": \"parcoords\"}], \"pie\": [{\"automargin\": true, \"type\": \"pie\"}], \"scatter\": [{\"marker\": {\"colorbar\": {\"outlinewidth\": 0, \"ticks\": \"\"}}, \"type\": \"scatter\"}], \"scatter3d\": [{\"line\": {\"colorbar\": {\"outlinewidth\": 0, \"ticks\": \"\"}}, \"marker\": {\"colorbar\": {\"outlinewidth\": 0, \"ticks\": \"\"}}, \"type\": \"scatter3d\"}], \"scattercarpet\": [{\"marker\": {\"colorbar\": {\"outlinewidth\": 0, \"ticks\": \"\"}}, \"type\": \"scattercarpet\"}], \"scattergeo\": [{\"marker\": {\"colorbar\": {\"outlinewidth\": 0, \"ticks\": \"\"}}, \"type\": \"scattergeo\"}], \"scattergl\": [{\"marker\": {\"colorbar\": {\"outlinewidth\": 0, \"ticks\": \"\"}}, \"type\": \"scattergl\"}], \"scattermapbox\": [{\"marker\": {\"colorbar\": {\"outlinewidth\": 0, \"ticks\": \"\"}}, \"type\": \"scattermapbox\"}], \"scatterpolar\": [{\"marker\": {\"colorbar\": {\"outlinewidth\": 0, \"ticks\": \"\"}}, \"type\": \"scatterpolar\"}], \"scatterpolargl\": [{\"marker\": {\"colorbar\": {\"outlinewidth\": 0, \"ticks\": \"\"}}, \"type\": \"scatterpolargl\"}], \"scatterternary\": [{\"marker\": {\"colorbar\": {\"outlinewidth\": 0, \"ticks\": \"\"}}, \"type\": \"scatterternary\"}], \"surface\": [{\"colorbar\": {\"outlinewidth\": 0, \"ticks\": \"\"}, \"colorscale\": [[0.0, \"#0d0887\"], [0.1111111111111111, \"#46039f\"], [0.2222222222222222, \"#7201a8\"], [0.3333333333333333, \"#9c179e\"], [0.4444444444444444, \"#bd3786\"], [0.5555555555555556, \"#d8576b\"], [0.6666666666666666, \"#ed7953\"], [0.7777777777777778, \"#fb9f3a\"], [0.8888888888888888, \"#fdca26\"], [1.0, \"#f0f921\"]], \"type\": \"surface\"}], \"table\": [{\"cells\": {\"fill\": {\"color\": \"#EBF0F8\"}, \"line\": {\"color\": \"white\"}}, \"header\": {\"fill\": {\"color\": \"#C8D4E3\"}, \"line\": {\"color\": \"white\"}}, \"type\": \"table\"}]}, \"layout\": {\"annotationdefaults\": {\"arrowcolor\": \"#2a3f5f\", \"arrowhead\": 0, \"arrowwidth\": 1}, \"coloraxis\": {\"colorbar\": {\"outlinewidth\": 0, \"ticks\": \"\"}}, \"colorscale\": {\"diverging\": [[0, \"#8e0152\"], [0.1, \"#c51b7d\"], [0.2, \"#de77ae\"], [0.3, \"#f1b6da\"], [0.4, \"#fde0ef\"], [0.5, \"#f7f7f7\"], [0.6, \"#e6f5d0\"], [0.7, \"#b8e186\"], [0.8, \"#7fbc41\"], [0.9, \"#4d9221\"], [1, \"#276419\"]], \"sequential\": [[0.0, \"#0d0887\"], [0.1111111111111111, \"#46039f\"], [0.2222222222222222, \"#7201a8\"], [0.3333333333333333, \"#9c179e\"], [0.4444444444444444, \"#bd3786\"], [0.5555555555555556, \"#d8576b\"], [0.6666666666666666, \"#ed7953\"], [0.7777777777777778, \"#fb9f3a\"], [0.8888888888888888, \"#fdca26\"], [1.0, \"#f0f921\"]], \"sequentialminus\": [[0.0, \"#0d0887\"], [0.1111111111111111, \"#46039f\"], [0.2222222222222222, \"#7201a8\"], [0.3333333333333333, \"#9c179e\"], [0.4444444444444444, \"#bd3786\"], [0.5555555555555556, \"#d8576b\"], [0.6666666666666666, \"#ed7953\"], [0.7777777777777778, \"#fb9f3a\"], [0.8888888888888888, \"#fdca26\"], [1.0, \"#f0f921\"]]}, \"colorway\": [\"#636efa\", \"#EF553B\", \"#00cc96\", \"#ab63fa\", \"#FFA15A\", \"#19d3f3\", \"#FF6692\", \"#B6E880\", \"#FF97FF\", \"#FECB52\"], \"font\": {\"color\": \"#2a3f5f\"}, \"geo\": {\"bgcolor\": \"white\", \"lakecolor\": \"white\", \"landcolor\": \"white\", \"showlakes\": true, \"showland\": true, \"subunitcolor\": \"#C8D4E3\"}, \"hoverlabel\": {\"align\": \"left\"}, \"hovermode\": \"closest\", \"mapbox\": {\"style\": \"light\"}, \"paper_bgcolor\": \"white\", \"plot_bgcolor\": \"white\", \"polar\": {\"angularaxis\": {\"gridcolor\": \"#EBF0F8\", \"linecolor\": \"#EBF0F8\", \"ticks\": \"\"}, \"bgcolor\": \"white\", \"radialaxis\": {\"gridcolor\": \"#EBF0F8\", \"linecolor\": \"#EBF0F8\", \"ticks\": \"\"}}, \"scene\": {\"xaxis\": {\"backgroundcolor\": \"white\", \"gridcolor\": \"#DFE8F3\", \"gridwidth\": 2, \"linecolor\": \"#EBF0F8\", \"showbackground\": true, \"ticks\": \"\", \"zerolinecolor\": \"#EBF0F8\"}, \"yaxis\": {\"backgroundcolor\": \"white\", \"gridcolor\": \"#DFE8F3\", \"gridwidth\": 2, \"linecolor\": \"#EBF0F8\", \"showbackground\": true, \"ticks\": \"\", \"zerolinecolor\": \"#EBF0F8\"}, \"zaxis\": {\"backgroundcolor\": \"white\", \"gridcolor\": \"#DFE8F3\", \"gridwidth\": 2, \"linecolor\": \"#EBF0F8\", \"showbackground\": true, \"ticks\": \"\", \"zerolinecolor\": \"#EBF0F8\"}}, \"shapedefaults\": {\"line\": {\"color\": \"#2a3f5f\"}}, \"ternary\": {\"aaxis\": {\"gridcolor\": \"#DFE8F3\", \"linecolor\": \"#A2B1C6\", \"ticks\": \"\"}, \"baxis\": {\"gridcolor\": \"#DFE8F3\", \"linecolor\": \"#A2B1C6\", \"ticks\": \"\"}, \"bgcolor\": \"white\", \"caxis\": {\"gridcolor\": \"#DFE8F3\", \"linecolor\": \"#A2B1C6\", \"ticks\": \"\"}}, \"title\": {\"x\": 0.05}, \"xaxis\": {\"automargin\": true, \"gridcolor\": \"#EBF0F8\", \"linecolor\": \"#EBF0F8\", \"ticks\": \"\", \"title\": {\"standoff\": 15}, \"zerolinecolor\": \"#EBF0F8\", \"zerolinewidth\": 2}, \"yaxis\": {\"automargin\": true, \"gridcolor\": \"#EBF0F8\", \"linecolor\": \"#EBF0F8\", \"ticks\": \"\", \"title\": {\"standoff\": 15}, \"zerolinecolor\": \"#EBF0F8\", \"zerolinewidth\": 2}}}, \"title\": {\"text\": \"Vendas Realizadas - Hist\\u00f3ria\"}, \"xaxis\": {\"tickangle\": 80, \"title\": {\"text\": \"Per\\u00edodo\"}}, \"yaxis\": {\"title\": {\"text\": \"Total de Vendas\"}}},\n",
              "                        {\"responsive\": true}\n",
              "                    ).then(function(){\n",
              "                            \n",
              "var gd = document.getElementById('9d726203-1d63-4f1e-b9e4-1240755786c0');\n",
              "var x = new MutationObserver(function (mutations, observer) {{\n",
              "        var display = window.getComputedStyle(gd).display;\n",
              "        if (!display || display === 'none') {{\n",
              "            console.log([gd, 'removed!']);\n",
              "            Plotly.purge(gd);\n",
              "            observer.disconnect();\n",
              "        }}\n",
              "}});\n",
              "\n",
              "// Listen for the removal of the full notebook cells\n",
              "var notebookContainer = gd.closest('#notebook-container');\n",
              "if (notebookContainer) {{\n",
              "    x.observe(notebookContainer, {childList: true});\n",
              "}}\n",
              "\n",
              "// Listen for the clearing of the current output cell\n",
              "var outputEl = gd.closest('.output');\n",
              "if (outputEl) {{\n",
              "    x.observe(outputEl, {childList: true});\n",
              "}}\n",
              "\n",
              "                        })\n",
              "                };\n",
              "                \n",
              "            </script>\n",
              "        </div>\n",
              "</body>\n",
              "</html>"
            ]
          },
          "metadata": {}
        }
      ]
    },
    {
      "cell_type": "markdown",
      "metadata": {
        "id": "P6k30W8OrGMl"
      },
      "source": [
        "# **PRé-PROCESSAMENTO**"
      ]
    },
    {
      "cell_type": "code",
      "metadata": {
        "colab": {
          "base_uri": "https://localhost:8080/",
          "height": 203
        },
        "id": "LqDxgkcbrH4s",
        "outputId": "656bffe8-04d7-46cd-f90c-20278bb6b467"
      },
      "source": [
        "df2 = df[['ds', 'y']].copy()\n",
        "df2.head()"
      ],
      "execution_count": 4,
      "outputs": [
        {
          "output_type": "execute_result",
          "data": {
            "text/html": [
              "<div>\n",
              "<style scoped>\n",
              "    .dataframe tbody tr th:only-of-type {\n",
              "        vertical-align: middle;\n",
              "    }\n",
              "\n",
              "    .dataframe tbody tr th {\n",
              "        vertical-align: top;\n",
              "    }\n",
              "\n",
              "    .dataframe thead th {\n",
              "        text-align: right;\n",
              "    }\n",
              "</style>\n",
              "<table border=\"1\" class=\"dataframe\">\n",
              "  <thead>\n",
              "    <tr style=\"text-align: right;\">\n",
              "      <th></th>\n",
              "      <th>ds</th>\n",
              "      <th>y</th>\n",
              "    </tr>\n",
              "  </thead>\n",
              "  <tbody>\n",
              "    <tr>\n",
              "      <th>0</th>\n",
              "      <td>2000-01-01</td>\n",
              "      <td>750.0</td>\n",
              "    </tr>\n",
              "    <tr>\n",
              "      <th>1</th>\n",
              "      <td>2000-02-01</td>\n",
              "      <td>750.0</td>\n",
              "    </tr>\n",
              "    <tr>\n",
              "      <th>2</th>\n",
              "      <td>2000-03-01</td>\n",
              "      <td>1000.0</td>\n",
              "    </tr>\n",
              "    <tr>\n",
              "      <th>3</th>\n",
              "      <td>2000-04-01</td>\n",
              "      <td>1000.0</td>\n",
              "    </tr>\n",
              "    <tr>\n",
              "      <th>4</th>\n",
              "      <td>2000-05-01</td>\n",
              "      <td>1000.0</td>\n",
              "    </tr>\n",
              "  </tbody>\n",
              "</table>\n",
              "</div>"
            ],
            "text/plain": [
              "           ds       y\n",
              "0  2000-01-01   750.0\n",
              "1  2000-02-01   750.0\n",
              "2  2000-03-01  1000.0\n",
              "3  2000-04-01  1000.0\n",
              "4  2000-05-01  1000.0"
            ]
          },
          "metadata": {},
          "execution_count": 4
        }
      ]
    },
    {
      "cell_type": "code",
      "metadata": {
        "colab": {
          "base_uri": "https://localhost:8080/"
        },
        "id": "e42Ny9kSrSvF",
        "outputId": "752caccb-0682-4d26-90bb-b662257d2c42"
      },
      "source": [
        "df2.info()"
      ],
      "execution_count": 5,
      "outputs": [
        {
          "output_type": "stream",
          "name": "stdout",
          "text": [
            "<class 'pandas.core.frame.DataFrame'>\n",
            "RangeIndex: 264 entries, 0 to 263\n",
            "Data columns (total 2 columns):\n",
            " #   Column  Non-Null Count  Dtype  \n",
            "---  ------  --------------  -----  \n",
            " 0   ds      264 non-null    object \n",
            " 1   y       264 non-null    float64\n",
            "dtypes: float64(1), object(1)\n",
            "memory usage: 4.2+ KB\n"
          ]
        }
      ]
    },
    {
      "cell_type": "code",
      "metadata": {
        "colab": {
          "base_uri": "https://localhost:8080/",
          "height": 203
        },
        "id": "FcLXHjS8rVf0",
        "outputId": "5bf09533-2bd5-4ff4-e826-f29f449a68c4"
      },
      "source": [
        "df2['diaAno'] = df.ds.apply(lambda x: pd.to_datetime([x]).dayofyear[0])\n",
        "df2['ano'] = df.ds.apply(lambda x: pd.to_datetime([x]).year[0])\n",
        "df2.head()"
      ],
      "execution_count": 6,
      "outputs": [
        {
          "output_type": "execute_result",
          "data": {
            "text/html": [
              "<div>\n",
              "<style scoped>\n",
              "    .dataframe tbody tr th:only-of-type {\n",
              "        vertical-align: middle;\n",
              "    }\n",
              "\n",
              "    .dataframe tbody tr th {\n",
              "        vertical-align: top;\n",
              "    }\n",
              "\n",
              "    .dataframe thead th {\n",
              "        text-align: right;\n",
              "    }\n",
              "</style>\n",
              "<table border=\"1\" class=\"dataframe\">\n",
              "  <thead>\n",
              "    <tr style=\"text-align: right;\">\n",
              "      <th></th>\n",
              "      <th>ds</th>\n",
              "      <th>y</th>\n",
              "      <th>diaAno</th>\n",
              "      <th>ano</th>\n",
              "    </tr>\n",
              "  </thead>\n",
              "  <tbody>\n",
              "    <tr>\n",
              "      <th>0</th>\n",
              "      <td>2000-01-01</td>\n",
              "      <td>750.0</td>\n",
              "      <td>1</td>\n",
              "      <td>2000</td>\n",
              "    </tr>\n",
              "    <tr>\n",
              "      <th>1</th>\n",
              "      <td>2000-02-01</td>\n",
              "      <td>750.0</td>\n",
              "      <td>32</td>\n",
              "      <td>2000</td>\n",
              "    </tr>\n",
              "    <tr>\n",
              "      <th>2</th>\n",
              "      <td>2000-03-01</td>\n",
              "      <td>1000.0</td>\n",
              "      <td>61</td>\n",
              "      <td>2000</td>\n",
              "    </tr>\n",
              "    <tr>\n",
              "      <th>3</th>\n",
              "      <td>2000-04-01</td>\n",
              "      <td>1000.0</td>\n",
              "      <td>92</td>\n",
              "      <td>2000</td>\n",
              "    </tr>\n",
              "    <tr>\n",
              "      <th>4</th>\n",
              "      <td>2000-05-01</td>\n",
              "      <td>1000.0</td>\n",
              "      <td>122</td>\n",
              "      <td>2000</td>\n",
              "    </tr>\n",
              "  </tbody>\n",
              "</table>\n",
              "</div>"
            ],
            "text/plain": [
              "           ds       y  diaAno   ano\n",
              "0  2000-01-01   750.0       1  2000\n",
              "1  2000-02-01   750.0      32  2000\n",
              "2  2000-03-01  1000.0      61  2000\n",
              "3  2000-04-01  1000.0      92  2000\n",
              "4  2000-05-01  1000.0     122  2000"
            ]
          },
          "metadata": {},
          "execution_count": 6
        }
      ]
    },
    {
      "cell_type": "code",
      "metadata": {
        "colab": {
          "base_uri": "https://localhost:8080/"
        },
        "id": "9RXZJ1dIHrgR",
        "outputId": "4e74918a-f6d0-46d9-8423-326150609036"
      },
      "source": [
        "qtdna = df2.isna().sum().sum()\n",
        "if qtdna:\n",
        "  print(f'Existem {qtdna} valores nulos. Excluindo valores NA')\n",
        "  df2 = df2.dropna()\n",
        "  print(df2.isna().sum().sum())\n",
        "else:\n",
        "  print(f'Existem {qtdna} valores nulos')"
      ],
      "execution_count": 7,
      "outputs": [
        {
          "output_type": "stream",
          "name": "stdout",
          "text": [
            "Existem 0 valores nulos\n"
          ]
        }
      ]
    },
    {
      "cell_type": "code",
      "metadata": {
        "id": "wMnsJz-wK-VJ"
      },
      "source": [
        "# utilizar somente valores com o ano menor de 2021\n",
        "# dataset = df2[df2.ano < 2021][['diaAno', 'ano', 'y']].copy()\n",
        "dataset = df2[['diaAno', 'ano', 'y']].copy()"
      ],
      "execution_count": 8,
      "outputs": []
    },
    {
      "cell_type": "code",
      "metadata": {
        "colab": {
          "base_uri": "https://localhost:8080/",
          "height": 203
        },
        "id": "R-OqiCHNM2Ow",
        "outputId": "ce607d69-2df6-488b-cf4e-70464cd019a7"
      },
      "source": [
        "dataset.head()"
      ],
      "execution_count": 9,
      "outputs": [
        {
          "output_type": "execute_result",
          "data": {
            "text/html": [
              "<div>\n",
              "<style scoped>\n",
              "    .dataframe tbody tr th:only-of-type {\n",
              "        vertical-align: middle;\n",
              "    }\n",
              "\n",
              "    .dataframe tbody tr th {\n",
              "        vertical-align: top;\n",
              "    }\n",
              "\n",
              "    .dataframe thead th {\n",
              "        text-align: right;\n",
              "    }\n",
              "</style>\n",
              "<table border=\"1\" class=\"dataframe\">\n",
              "  <thead>\n",
              "    <tr style=\"text-align: right;\">\n",
              "      <th></th>\n",
              "      <th>diaAno</th>\n",
              "      <th>ano</th>\n",
              "      <th>y</th>\n",
              "    </tr>\n",
              "  </thead>\n",
              "  <tbody>\n",
              "    <tr>\n",
              "      <th>0</th>\n",
              "      <td>1</td>\n",
              "      <td>2000</td>\n",
              "      <td>750.0</td>\n",
              "    </tr>\n",
              "    <tr>\n",
              "      <th>1</th>\n",
              "      <td>32</td>\n",
              "      <td>2000</td>\n",
              "      <td>750.0</td>\n",
              "    </tr>\n",
              "    <tr>\n",
              "      <th>2</th>\n",
              "      <td>61</td>\n",
              "      <td>2000</td>\n",
              "      <td>1000.0</td>\n",
              "    </tr>\n",
              "    <tr>\n",
              "      <th>3</th>\n",
              "      <td>92</td>\n",
              "      <td>2000</td>\n",
              "      <td>1000.0</td>\n",
              "    </tr>\n",
              "    <tr>\n",
              "      <th>4</th>\n",
              "      <td>122</td>\n",
              "      <td>2000</td>\n",
              "      <td>1000.0</td>\n",
              "    </tr>\n",
              "  </tbody>\n",
              "</table>\n",
              "</div>"
            ],
            "text/plain": [
              "   diaAno   ano       y\n",
              "0       1  2000   750.0\n",
              "1      32  2000   750.0\n",
              "2      61  2000  1000.0\n",
              "3      92  2000  1000.0\n",
              "4     122  2000  1000.0"
            ]
          },
          "metadata": {},
          "execution_count": 9
        }
      ]
    },
    {
      "cell_type": "code",
      "metadata": {
        "colab": {
          "base_uri": "https://localhost:8080/"
        },
        "id": "nhu9kuGvIvgN",
        "outputId": "ce24c4e5-0601-44bc-aee7-fe630dba8a49"
      },
      "source": [
        "# FEATURES: dados de treino e teste\n",
        "# dftreino = dataset.sample(frac=0.8, random_state=0)\n",
        "# dfteste = dataset.drop(dftreino.index)\n",
        "dftreino = dataset[dataset.ano<2021]\n",
        "dfteste = dataset[dataset.ano>2020]\n",
        "dataset.shape, dftreino.shape, dfteste.shape"
      ],
      "execution_count": 10,
      "outputs": [
        {
          "output_type": "execute_result",
          "data": {
            "text/plain": [
              "((264, 3), (252, 3), (12, 3))"
            ]
          },
          "metadata": {},
          "execution_count": 10
        }
      ]
    },
    {
      "cell_type": "code",
      "metadata": {
        "colab": {
          "base_uri": "https://localhost:8080/",
          "height": 110
        },
        "id": "NjiAAIpMJ4fO",
        "outputId": "cced2597-1ca9-49c5-ee7e-c2175c26dde8"
      },
      "source": [
        "# FEATURES: visão estatística\n",
        "dfstats = dftreino.describe()\n",
        "dfstats.pop('y')\n",
        "dfstats = dfstats.transpose()\n",
        "dfstats"
      ],
      "execution_count": 11,
      "outputs": [
        {
          "output_type": "execute_result",
          "data": {
            "text/html": [
              "<div>\n",
              "<style scoped>\n",
              "    .dataframe tbody tr th:only-of-type {\n",
              "        vertical-align: middle;\n",
              "    }\n",
              "\n",
              "    .dataframe tbody tr th {\n",
              "        vertical-align: top;\n",
              "    }\n",
              "\n",
              "    .dataframe thead th {\n",
              "        text-align: right;\n",
              "    }\n",
              "</style>\n",
              "<table border=\"1\" class=\"dataframe\">\n",
              "  <thead>\n",
              "    <tr style=\"text-align: right;\">\n",
              "      <th></th>\n",
              "      <th>count</th>\n",
              "      <th>mean</th>\n",
              "      <th>std</th>\n",
              "      <th>min</th>\n",
              "      <th>25%</th>\n",
              "      <th>50%</th>\n",
              "      <th>75%</th>\n",
              "      <th>max</th>\n",
              "    </tr>\n",
              "  </thead>\n",
              "  <tbody>\n",
              "    <tr>\n",
              "      <th>diaAno</th>\n",
              "      <td>252.0</td>\n",
              "      <td>167.738095</td>\n",
              "      <td>105.290732</td>\n",
              "      <td>1.0</td>\n",
              "      <td>83.5</td>\n",
              "      <td>167.5</td>\n",
              "      <td>252.25</td>\n",
              "      <td>336.0</td>\n",
              "    </tr>\n",
              "    <tr>\n",
              "      <th>ano</th>\n",
              "      <td>252.0</td>\n",
              "      <td>2010.000000</td>\n",
              "      <td>6.067351</td>\n",
              "      <td>2000.0</td>\n",
              "      <td>2005.0</td>\n",
              "      <td>2010.0</td>\n",
              "      <td>2015.00</td>\n",
              "      <td>2020.0</td>\n",
              "    </tr>\n",
              "  </tbody>\n",
              "</table>\n",
              "</div>"
            ],
            "text/plain": [
              "        count         mean         std     min     25%     50%      75%     max\n",
              "diaAno  252.0   167.738095  105.290732     1.0    83.5   167.5   252.25   336.0\n",
              "ano     252.0  2010.000000    6.067351  2000.0  2005.0  2010.0  2015.00  2020.0"
            ]
          },
          "metadata": {},
          "execution_count": 11
        }
      ]
    },
    {
      "cell_type": "code",
      "metadata": {
        "colab": {
          "base_uri": "https://localhost:8080/"
        },
        "id": "vXnwS8k1LzJk",
        "outputId": "4f32dcc2-f1ce-495c-c213-b038d4650cc1"
      },
      "source": [
        "# LABELS: \n",
        "labels_treino = dftreino.pop('y')\n",
        "labels_teste = dfteste.pop('y')\n",
        "labels_treino.shape, labels_teste.shape"
      ],
      "execution_count": 12,
      "outputs": [
        {
          "output_type": "execute_result",
          "data": {
            "text/plain": [
              "((252,), (12,))"
            ]
          },
          "metadata": {},
          "execution_count": 12
        }
      ]
    },
    {
      "cell_type": "code",
      "metadata": {
        "colab": {
          "base_uri": "https://localhost:8080/",
          "height": 110
        },
        "id": "RTI6_QFtNIdS",
        "outputId": "8bb3bbe5-89fa-468d-cb06-7422f6721711"
      },
      "source": [
        "# NORMALIZAR OS DADOS, para diminuir a escala de valores entre as features\n",
        "dftreino.head(2)"
      ],
      "execution_count": 13,
      "outputs": [
        {
          "output_type": "execute_result",
          "data": {
            "text/html": [
              "<div>\n",
              "<style scoped>\n",
              "    .dataframe tbody tr th:only-of-type {\n",
              "        vertical-align: middle;\n",
              "    }\n",
              "\n",
              "    .dataframe tbody tr th {\n",
              "        vertical-align: top;\n",
              "    }\n",
              "\n",
              "    .dataframe thead th {\n",
              "        text-align: right;\n",
              "    }\n",
              "</style>\n",
              "<table border=\"1\" class=\"dataframe\">\n",
              "  <thead>\n",
              "    <tr style=\"text-align: right;\">\n",
              "      <th></th>\n",
              "      <th>diaAno</th>\n",
              "      <th>ano</th>\n",
              "    </tr>\n",
              "  </thead>\n",
              "  <tbody>\n",
              "    <tr>\n",
              "      <th>0</th>\n",
              "      <td>1</td>\n",
              "      <td>2000</td>\n",
              "    </tr>\n",
              "    <tr>\n",
              "      <th>1</th>\n",
              "      <td>32</td>\n",
              "      <td>2000</td>\n",
              "    </tr>\n",
              "  </tbody>\n",
              "</table>\n",
              "</div>"
            ],
            "text/plain": [
              "   diaAno   ano\n",
              "0       1  2000\n",
              "1      32  2000"
            ]
          },
          "metadata": {},
          "execution_count": 13
        }
      ]
    },
    {
      "cell_type": "code",
      "metadata": {
        "id": "EDBjiMk2NdPg"
      },
      "source": [
        "def normaliza(dataframe):\n",
        "  return (dataframe - dfstats['mean']) / dfstats['std']"
      ],
      "execution_count": 14,
      "outputs": []
    },
    {
      "cell_type": "code",
      "metadata": {
        "colab": {
          "base_uri": "https://localhost:8080/",
          "height": 110
        },
        "id": "3Q0L0QixNvuW",
        "outputId": "3dac4e6d-c969-4d13-be2e-ceaf97efa6a4"
      },
      "source": [
        "dftreino_normalizado = normaliza(dftreino)\n",
        "dftreino_normalizado.head(2)"
      ],
      "execution_count": 15,
      "outputs": [
        {
          "output_type": "execute_result",
          "data": {
            "text/html": [
              "<div>\n",
              "<style scoped>\n",
              "    .dataframe tbody tr th:only-of-type {\n",
              "        vertical-align: middle;\n",
              "    }\n",
              "\n",
              "    .dataframe tbody tr th {\n",
              "        vertical-align: top;\n",
              "    }\n",
              "\n",
              "    .dataframe thead th {\n",
              "        text-align: right;\n",
              "    }\n",
              "</style>\n",
              "<table border=\"1\" class=\"dataframe\">\n",
              "  <thead>\n",
              "    <tr style=\"text-align: right;\">\n",
              "      <th></th>\n",
              "      <th>diaAno</th>\n",
              "      <th>ano</th>\n",
              "    </tr>\n",
              "  </thead>\n",
              "  <tbody>\n",
              "    <tr>\n",
              "      <th>0</th>\n",
              "      <td>-1.583597</td>\n",
              "      <td>-1.648166</td>\n",
              "    </tr>\n",
              "    <tr>\n",
              "      <th>1</th>\n",
              "      <td>-1.289174</td>\n",
              "      <td>-1.648166</td>\n",
              "    </tr>\n",
              "  </tbody>\n",
              "</table>\n",
              "</div>"
            ],
            "text/plain": [
              "     diaAno       ano\n",
              "0 -1.583597 -1.648166\n",
              "1 -1.289174 -1.648166"
            ]
          },
          "metadata": {},
          "execution_count": 15
        }
      ]
    },
    {
      "cell_type": "code",
      "metadata": {
        "id": "k_Hi6499QKdf"
      },
      "source": [
        "# precisamos fazer a mesma coisa nos dados de teste\n",
        "dfteste_normalizado = normaliza(dfteste)"
      ],
      "execution_count": 16,
      "outputs": []
    },
    {
      "cell_type": "markdown",
      "metadata": {
        "id": "GvgZ85HW4kCu"
      },
      "source": [
        "# **Modelo keras**"
      ]
    },
    {
      "cell_type": "markdown",
      "metadata": {
        "id": "qZXWIw6ZQkXW"
      },
      "source": [
        "**Criar e examinar o modelo**"
      ]
    },
    {
      "cell_type": "code",
      "metadata": {
        "id": "H2iI6NZSQmdS"
      },
      "source": [
        "keras.backend.clear_session()\n",
        "tf.random.set_seed(42)\n",
        "np.random.seed(42)\n",
        "\n",
        "def criarModelo():\n",
        "  model = keras.Sequential([\n",
        "    layers.Dense(64, activation='relu', input_shape=[len(dftreino.keys())]),\n",
        "    layers.Dense(64, activation='relu'),\n",
        "    layers.Dense(1)\n",
        "  ])\n",
        "\n",
        "  optimizer = tf.keras.optimizers.RMSprop(0.01)\n",
        "  # outras opções\n",
        "  # optimizer = tf.keras.optimizers.Adam(0.2)\n",
        "  # optimizer = tf.keras.optimizers.Adamax(0.1)\n",
        "\n",
        "  model.compile(loss='mse',\n",
        "                optimizer=optimizer,\n",
        "                metrics=['mae', 'mse'])\n",
        "  return model"
      ],
      "execution_count": 17,
      "outputs": []
    },
    {
      "cell_type": "code",
      "metadata": {
        "id": "02U576HEQyP-"
      },
      "source": [
        "# criar modelo\n",
        "modelo = criarModelo()"
      ],
      "execution_count": 18,
      "outputs": []
    },
    {
      "cell_type": "code",
      "metadata": {
        "colab": {
          "base_uri": "https://localhost:8080/"
        },
        "id": "_6PesKoAQ-BA",
        "outputId": "8acb6c91-cf4c-4557-856a-2664826bdf27"
      },
      "source": [
        "# examinar modelo\n",
        "modelo.summary()"
      ],
      "execution_count": 19,
      "outputs": [
        {
          "output_type": "stream",
          "name": "stdout",
          "text": [
            "Model: \"sequential\"\n",
            "_________________________________________________________________\n",
            "Layer (type)                 Output Shape              Param #   \n",
            "=================================================================\n",
            "dense (Dense)                (None, 64)                192       \n",
            "_________________________________________________________________\n",
            "dense_1 (Dense)              (None, 64)                4160      \n",
            "_________________________________________________________________\n",
            "dense_2 (Dense)              (None, 1)                 65        \n",
            "=================================================================\n",
            "Total params: 4,417\n",
            "Trainable params: 4,417\n",
            "Non-trainable params: 0\n",
            "_________________________________________________________________\n"
          ]
        }
      ]
    },
    {
      "cell_type": "markdown",
      "metadata": {
        "id": "BU5ATME_tMf7"
      },
      "source": [
        "**Treinar o modelo**"
      ]
    },
    {
      "cell_type": "code",
      "metadata": {
        "id": "Tg7Q9AJOHrbn"
      },
      "source": [
        "# classe para callback\n",
        "class pontoEpoch(keras.callbacks.Callback):\n",
        "  def on_epoch_end(self, epoch, logs):\n",
        "    if epoch % 100 == 0: print(f'')\n",
        "    print('.', end='')\n",
        "\n",
        "parada = keras.callbacks.EarlyStopping(monitor='val_loss', patience=10)"
      ],
      "execution_count": 20,
      "outputs": []
    },
    {
      "cell_type": "code",
      "metadata": {
        "colab": {
          "base_uri": "https://localhost:8080/"
        },
        "id": "ZpVH4rNGRP8Y",
        "outputId": "781567aa-e39a-4fd4-e059-48a19c647f1a"
      },
      "source": [
        "EPOCHS = 1000\n",
        "print('Treinamento iniciado')\n",
        "treinamento = modelo.fit(dftreino_normalizado, labels_treino, epochs=EPOCHS,\n",
        "                         validation_split = 0.2, verbose=0, \n",
        "                         callbacks=[parada, pontoEpoch()])\n",
        "print('\\nTreinamento finalizado')"
      ],
      "execution_count": 21,
      "outputs": [
        {
          "output_type": "stream",
          "name": "stdout",
          "text": [
            "Treinamento iniciado\n",
            "\n",
            "....................................................................................................\n",
            "....................................................................................................\n",
            "....................................................................................................\n",
            ".......................\n",
            "Treinamento finalizado\n"
          ]
        }
      ]
    },
    {
      "cell_type": "code",
      "metadata": {
        "id": "rNO8QpXiRP6a"
      },
      "source": [
        "historico = pd.DataFrame(treinamento.history)"
      ],
      "execution_count": 22,
      "outputs": []
    },
    {
      "cell_type": "code",
      "metadata": {
        "colab": {
          "base_uri": "https://localhost:8080/",
          "height": 542
        },
        "id": "0fZ_BxKsWqgb",
        "outputId": "1fb698d4-772d-47cb-f128-3122c5bd5cc3"
      },
      "source": [
        "hist = pd.DataFrame()\n",
        "hist['epoch'] = historico.index.to_list()\n",
        "hist['epoch'] = hist['epoch'].apply(lambda x: x+1)\n",
        "hist['mae'] = historico['mae']\n",
        "hist['val_mae'] = historico['val_mae']\n",
        "scatter(hist, x=['epoch'], y=['mae', 'val_mae'], txt_titulo='Análise de erros',\n",
        "        txt_xaxis='Epochs', txt_yaxis='MAE')"
      ],
      "execution_count": 23,
      "outputs": [
        {
          "output_type": "display_data",
          "data": {
            "text/html": [
              "<html>\n",
              "<head><meta charset=\"utf-8\" /></head>\n",
              "<body>\n",
              "    <div>\n",
              "            <script src=\"https://cdnjs.cloudflare.com/ajax/libs/mathjax/2.7.5/MathJax.js?config=TeX-AMS-MML_SVG\"></script><script type=\"text/javascript\">if (window.MathJax) {MathJax.Hub.Config({SVG: {font: \"STIX-Web\"}});}</script>\n",
              "                <script type=\"text/javascript\">window.PlotlyConfig = {MathJaxConfig: 'local'};</script>\n",
              "        <script src=\"https://cdn.plot.ly/plotly-latest.min.js\"></script>    \n",
              "            <div id=\"0ac63e99-64dc-4672-b8c1-a8ebdf7a2e00\" class=\"plotly-graph-div\" style=\"height:525px; width:100%;\"></div>\n",
              "            <script type=\"text/javascript\">\n",
              "                \n",
              "                    window.PLOTLYENV=window.PLOTLYENV || {};\n",
              "                    \n",
              "                if (document.getElementById(\"0ac63e99-64dc-4672-b8c1-a8ebdf7a2e00\")) {\n",
              "                    Plotly.newPlot(\n",
              "                        '0ac63e99-64dc-4672-b8c1-a8ebdf7a2e00',\n",
              "                        [{\"mode\": \"lines+markers\", \"name\": \"mae\", \"type\": \"scatter\", \"x\": [1, 2, 3, 4, 5, 6, 7, 8, 9, 10, 11, 12, 13, 14, 15, 16, 17, 18, 19, 20, 21, 22, 23, 24, 25, 26, 27, 28, 29, 30, 31, 32, 33, 34, 35, 36, 37, 38, 39, 40, 41, 42, 43, 44, 45, 46, 47, 48, 49, 50, 51, 52, 53, 54, 55, 56, 57, 58, 59, 60, 61, 62, 63, 64, 65, 66, 67, 68, 69, 70, 71, 72, 73, 74, 75, 76, 77, 78, 79, 80, 81, 82, 83, 84, 85, 86, 87, 88, 89, 90, 91, 92, 93, 94, 95, 96, 97, 98, 99, 100, 101, 102, 103, 104, 105, 106, 107, 108, 109, 110, 111, 112, 113, 114, 115, 116, 117, 118, 119, 120, 121, 122, 123, 124, 125, 126, 127, 128, 129, 130, 131, 132, 133, 134, 135, 136, 137, 138, 139, 140, 141, 142, 143, 144, 145, 146, 147, 148, 149, 150, 151, 152, 153, 154, 155, 156, 157, 158, 159, 160, 161, 162, 163, 164, 165, 166, 167, 168, 169, 170, 171, 172, 173, 174, 175, 176, 177, 178, 179, 180, 181, 182, 183, 184, 185, 186, 187, 188, 189, 190, 191, 192, 193, 194, 195, 196, 197, 198, 199, 200, 201, 202, 203, 204, 205, 206, 207, 208, 209, 210, 211, 212, 213, 214, 215, 216, 217, 218, 219, 220, 221, 222, 223, 224, 225, 226, 227, 228, 229, 230, 231, 232, 233, 234, 235, 236, 237, 238, 239, 240, 241, 242, 243, 244, 245, 246, 247, 248, 249, 250, 251, 252, 253, 254, 255, 256, 257, 258, 259, 260, 261, 262, 263, 264, 265, 266, 267, 268, 269, 270, 271, 272, 273, 274, 275, 276, 277, 278, 279, 280, 281, 282, 283, 284, 285, 286, 287, 288, 289, 290, 291, 292, 293, 294, 295, 296, 297, 298, 299, 300, 301, 302, 303, 304, 305, 306, 307, 308, 309, 310, 311, 312, 313, 314, 315, 316, 317, 318, 319, 320, 321, 322, 323], \"y\": [1076.082763671875, 1032.5654296875, 942.7930908203125, 813.0465698242188, 646.1156005859375, 480.208251953125, 362.6954345703125, 310.9095153808594, 270.2244873046875, 248.50921630859375, 229.1968994140625, 212.4465789794922, 205.0978546142578, 202.2578887939453, 206.38890075683594, 200.48472595214844, 205.02593994140625, 201.77206420898438, 195.2155303955078, 202.1287384033203, 203.63531494140625, 197.68161010742188, 208.9490509033203, 202.00460815429688, 192.11099243164062, 192.60781860351562, 194.50537109375, 218.12515258789062, 195.9998016357422, 204.95204162597656, 189.70001220703125, 196.802001953125, 214.1234130859375, 195.18844604492188, 199.16162109375, 190.93804931640625, 209.36343383789062, 189.1717529296875, 211.70669555664062, 190.98858642578125, 206.69891357421875, 196.62399291992188, 199.5026092529297, 185.96917724609375, 205.92405700683594, 194.6046905517578, 181.0490264892578, 211.58175659179688, 183.2666015625, 211.22451782226562, 197.74395751953125, 185.78863525390625, 197.91392517089844, 193.10548400878906, 186.95481872558594, 188.56646728515625, 197.8657684326172, 193.50634765625, 190.47869873046875, 196.1437530517578, 193.43919372558594, 194.74508666992188, 184.2536163330078, 181.4752655029297, 186.7899169921875, 182.71678161621094, 199.70228576660156, 173.73133850097656, 184.6813201904297, 184.10984802246094, 171.7090301513672, 176.7190399169922, 176.9611358642578, 185.24160766601562, 180.09649658203125, 179.45755004882812, 169.22850036621094, 175.33795166015625, 194.73570251464844, 182.03965759277344, 169.2428436279297, 173.65293884277344, 177.99867248535156, 186.41354370117188, 169.96202087402344, 181.77935791015625, 169.03211975097656, 171.70985412597656, 174.06179809570312, 172.92898559570312, 176.71563720703125, 163.1607208251953, 182.58871459960938, 174.63572692871094, 165.9306640625, 167.66046142578125, 167.1957550048828, 169.80787658691406, 161.85952758789062, 163.74111938476562, 164.49546813964844, 159.44273376464844, 162.86141967773438, 153.0373077392578, 162.5701446533203, 159.5579071044922, 156.783203125, 154.7127685546875, 159.87010192871094, 158.22561645507812, 151.5457000732422, 154.67166137695312, 162.54269409179688, 160.6759490966797, 154.0227813720703, 152.88978576660156, 158.68960571289062, 150.9881591796875, 153.73477172851562, 155.51974487304688, 153.80882263183594, 162.85382080078125, 150.8273162841797, 149.14010620117188, 153.59011840820312, 154.92189025878906, 154.156982421875, 149.89723205566406, 149.53330993652344, 154.608154296875, 156.0793914794922, 153.31240844726562, 152.56307983398438, 157.76834106445312, 157.8877716064453, 150.0996551513672, 152.7740936279297, 157.87466430664062, 153.62498474121094, 161.16270446777344, 153.44784545898438, 149.1250457763672, 152.84619140625, 156.9292449951172, 150.88494873046875, 149.96568298339844, 152.79197692871094, 155.08648681640625, 150.3514404296875, 150.76890563964844, 149.69720458984375, 156.4962615966797, 151.04220581054688, 155.0093994140625, 152.14674377441406, 148.26295471191406, 146.14544677734375, 150.9005889892578, 144.65805053710938, 158.3043212890625, 150.9700164794922, 151.7420196533203, 148.78921508789062, 159.57765197753906, 142.5044708251953, 145.83241271972656, 144.46617126464844, 146.48687744140625, 148.80848693847656, 145.17913818359375, 144.2300262451172, 144.49313354492188, 148.9535675048828, 145.43617248535156, 150.74356079101562, 142.844482421875, 141.0182647705078, 140.4289093017578, 141.7222442626953, 134.81956481933594, 137.26882934570312, 139.15521240234375, 134.05123901367188, 137.46881103515625, 136.13108825683594, 129.47210693359375, 138.84400939941406, 134.9501190185547, 147.10205078125, 130.26541137695312, 131.06320190429688, 134.2488555908203, 133.36305236816406, 134.3343048095703, 141.93954467773438, 126.44186401367188, 137.1123046875, 123.74317932128906, 136.3837890625, 129.69583129882812, 124.56204986572266, 127.63648223876953, 136.0544891357422, 125.394287109375, 127.25469207763672, 134.516357421875, 123.77620697021484, 127.71817779541016, 125.0518569946289, 121.96142578125, 125.80664825439453, 121.70703125, 128.93789672851562, 125.9232177734375, 122.42414855957031, 120.744384765625, 117.57305908203125, 127.82270050048828, 119.95817565917969, 115.97321319580078, 117.51077270507812, 120.22171020507812, 114.71339416503906, 124.37003326416016, 118.700927734375, 122.01799774169922, 115.03672790527344, 112.18524932861328, 118.64292907714844, 112.79051208496094, 118.21666717529297, 119.146240234375, 120.61156463623047, 112.9984130859375, 107.88085174560547, 110.88504791259766, 122.55904388427734, 107.92559814453125, 110.86767578125, 111.30709075927734, 114.78140258789062, 112.82461547851562, 118.99873352050781, 101.11627197265625, 113.92940521240234, 102.14115142822266, 118.96389770507812, 111.43115234375, 107.99624633789062, 103.146728515625, 102.28034973144531, 105.3958740234375, 110.01573944091797, 105.4869613647461, 103.70922088623047, 102.72076416015625, 98.529541015625, 107.70771789550781, 107.07117462158203, 100.37397766113281, 93.17156219482422, 110.59168243408203, 99.38359069824219, 103.0892105102539, 89.59833526611328, 98.65332794189453, 99.6037368774414, 102.02468872070312, 103.38422393798828, 90.78345489501953, 93.79640197753906, 97.01417541503906, 100.96119689941406, 85.70091247558594, 93.54452514648438, 101.96378326416016, 87.15763854980469, 90.94580078125, 100.65853118896484, 85.05359649658203, 92.44925689697266, 86.48114013671875, 92.49129486083984, 100.64210510253906, 87.6806411743164, 89.62349700927734, 91.39897918701172, 82.39651489257812, 93.7942886352539, 88.4573974609375, 87.81446075439453, 79.93997955322266, 86.18757629394531, 93.40142059326172, 78.2624740600586, 82.46171569824219, 91.13214111328125, 74.64569854736328, 87.04363250732422, 75.18534088134766, 81.87448120117188, 78.34158325195312, 80.22863006591797, 72.2056884765625, 82.8012466430664, 72.93495178222656, 96.20248413085938, 67.97260284423828, 78.28072357177734, 80.66368865966797, 69.19667053222656, 83.78034973144531, 64.89146423339844, 90.5058364868164, 92.40792846679688, 65.11003112792969, 74.9238510131836, 79.73111724853516, 65.73793029785156, 93.39832305908203, 69.12873840332031, 80.38264465332031, 88.88639068603516]}, {\"mode\": \"lines+markers\", \"name\": \"val_mae\", \"type\": \"scatter\", \"x\": [1, 2, 3, 4, 5, 6, 7, 8, 9, 10, 11, 12, 13, 14, 15, 16, 17, 18, 19, 20, 21, 22, 23, 24, 25, 26, 27, 28, 29, 30, 31, 32, 33, 34, 35, 36, 37, 38, 39, 40, 41, 42, 43, 44, 45, 46, 47, 48, 49, 50, 51, 52, 53, 54, 55, 56, 57, 58, 59, 60, 61, 62, 63, 64, 65, 66, 67, 68, 69, 70, 71, 72, 73, 74, 75, 76, 77, 78, 79, 80, 81, 82, 83, 84, 85, 86, 87, 88, 89, 90, 91, 92, 93, 94, 95, 96, 97, 98, 99, 100, 101, 102, 103, 104, 105, 106, 107, 108, 109, 110, 111, 112, 113, 114, 115, 116, 117, 118, 119, 120, 121, 122, 123, 124, 125, 126, 127, 128, 129, 130, 131, 132, 133, 134, 135, 136, 137, 138, 139, 140, 141, 142, 143, 144, 145, 146, 147, 148, 149, 150, 151, 152, 153, 154, 155, 156, 157, 158, 159, 160, 161, 162, 163, 164, 165, 166, 167, 168, 169, 170, 171, 172, 173, 174, 175, 176, 177, 178, 179, 180, 181, 182, 183, 184, 185, 186, 187, 188, 189, 190, 191, 192, 193, 194, 195, 196, 197, 198, 199, 200, 201, 202, 203, 204, 205, 206, 207, 208, 209, 210, 211, 212, 213, 214, 215, 216, 217, 218, 219, 220, 221, 222, 223, 224, 225, 226, 227, 228, 229, 230, 231, 232, 233, 234, 235, 236, 237, 238, 239, 240, 241, 242, 243, 244, 245, 246, 247, 248, 249, 250, 251, 252, 253, 254, 255, 256, 257, 258, 259, 260, 261, 262, 263, 264, 265, 266, 267, 268, 269, 270, 271, 272, 273, 274, 275, 276, 277, 278, 279, 280, 281, 282, 283, 284, 285, 286, 287, 288, 289, 290, 291, 292, 293, 294, 295, 296, 297, 298, 299, 300, 301, 302, 303, 304, 305, 306, 307, 308, 309, 310, 311, 312, 313, 314, 315, 316, 317, 318, 319, 320, 321, 322, 323], \"y\": [1062.7811279296875, 1013.5994262695312, 948.6997680664062, 876.8900146484375, 778.3196411132812, 669.91357421875, 547.71630859375, 403.8828125, 301.4383544921875, 250.8317413330078, 224.434326171875, 213.58262634277344, 211.77484130859375, 230.03799438476562, 213.1280975341797, 243.03738403320312, 256.7969665527344, 214.86209106445312, 235.87875366210938, 250.6142578125, 207.32513427734375, 243.35569763183594, 224.0859832763672, 206.95765686035156, 199.15528869628906, 205.7434844970703, 235.37965393066406, 224.33804321289062, 225.3751220703125, 196.25746154785156, 237.89031982421875, 261.4007263183594, 213.67355346679688, 220.5200653076172, 211.03956604003906, 234.5241241455078, 193.90533447265625, 237.94876098632812, 204.69532775878906, 225.90574645996094, 192.26339721679688, 194.09188842773438, 183.04324340820312, 199.47769165039062, 181.8606414794922, 187.92636108398438, 240.34750366210938, 187.90785217285156, 244.75628662109375, 230.94967651367188, 196.4236297607422, 239.98605346679688, 240.885498046875, 202.16246032714844, 196.816162109375, 221.07449340820312, 187.31906127929688, 208.52584838867188, 213.82142639160156, 203.42654418945312, 198.3015899658203, 180.73045349121094, 172.09011840820312, 188.55580139160156, 218.51654052734375, 250.6082763671875, 175.9378204345703, 189.57261657714844, 190.1692657470703, 173.18006896972656, 182.6267852783203, 184.68124389648438, 181.04591369628906, 169.4737548828125, 172.22061157226562, 176.20327758789062, 206.9569549560547, 227.5274658203125, 197.04974365234375, 174.29324340820312, 186.1554412841797, 204.06407165527344, 223.3154754638672, 173.73138427734375, 197.3100128173828, 161.3122100830078, 182.6444549560547, 191.88169860839844, 204.51113891601562, 199.59669494628906, 179.7667236328125, 244.02285766601562, 221.5021514892578, 184.11358642578125, 194.31910705566406, 193.0574493408203, 198.9895782470703, 176.72647094726562, 160.96287536621094, 197.13565063476562, 161.13462829589844, 169.70614624023438, 147.2949981689453, 175.2509002685547, 152.255615234375, 155.7457275390625, 151.464599609375, 159.75108337402344, 176.66433715820312, 155.2881317138672, 183.29620361328125, 216.8731689453125, 184.50616455078125, 146.36839294433594, 143.3114013671875, 184.8280487060547, 183.8673553466797, 188.99249267578125, 197.54010009765625, 171.29544067382812, 158.23641967773438, 158.98255920410156, 166.26547241210938, 145.70501708984375, 147.616455078125, 148.27752685546875, 146.43492126464844, 152.9029998779297, 163.3099365234375, 177.0986328125, 149.4001007080078, 160.9363555908203, 178.224365234375, 175.31234741210938, 152.4268035888672, 160.9568328857422, 179.60604858398438, 150.72508239746094, 155.0305633544922, 148.13003540039062, 154.60089111328125, 150.6299591064453, 164.35516357421875, 167.5725860595703, 147.72637939453125, 149.4109344482422, 193.8075408935547, 148.8551788330078, 167.8556671142578, 146.5291748046875, 186.42823791503906, 161.02113342285156, 181.7347412109375, 147.64341735839844, 148.53750610351562, 156.07676696777344, 179.51194763183594, 146.93173217773438, 187.87815856933594, 149.91888427734375, 163.8119659423828, 164.55039978027344, 192.44703674316406, 158.3686981201172, 144.52713012695312, 154.03651428222656, 157.44093322753906, 154.31533813476562, 148.4016876220703, 143.04820251464844, 176.88565063476562, 143.11976623535156, 148.6816864013672, 147.04847717285156, 151.36947631835938, 160.02334594726562, 179.94615173339844, 140.28778076171875, 144.54074096679688, 145.40872192382812, 137.50042724609375, 149.20558166503906, 176.57777404785156, 138.0531768798828, 141.7305908203125, 145.20562744140625, 134.96424865722656, 165.77316284179688, 132.29100036621094, 131.59678649902344, 150.5388641357422, 132.55999755859375, 146.16688537597656, 142.88597106933594, 137.52716064453125, 140.05955505371094, 128.524658203125, 152.63629150390625, 142.41664123535156, 129.17640686035156, 136.66990661621094, 126.5193099975586, 151.86538696289062, 134.53369140625, 140.2788848876953, 135.7097930908203, 128.07131958007812, 122.31069946289062, 144.69371032714844, 143.66070556640625, 128.97665405273438, 157.0716094970703, 121.22628784179688, 126.40099334716797, 126.8473892211914, 120.42298889160156, 128.51104736328125, 117.54769897460938, 126.52140808105469, 156.5026397705078, 140.5704345703125, 124.00237274169922, 135.38275146484375, 120.72227478027344, 115.20977020263672, 117.97137451171875, 126.09281921386719, 127.50145721435547, 123.06787872314453, 159.1160430908203, 120.98455047607422, 145.05006408691406, 118.6516342163086, 112.6106185913086, 135.27891540527344, 145.52252197265625, 107.22116088867188, 151.59774780273438, 142.72035217285156, 107.3704605102539, 139.47889709472656, 146.35052490234375, 108.19241333007812, 123.77596282958984, 111.15631866455078, 140.7335205078125, 129.26461791992188, 120.6462173461914, 105.6500244140625, 114.67901611328125, 128.93893432617188, 113.75992584228516, 165.2821807861328, 126.6593017578125, 114.47273254394531, 96.66027069091797, 125.03447723388672, 121.9928970336914, 106.69186401367188, 108.48150634765625, 126.53306579589844, 120.5344009399414, 119.09500122070312, 120.15240478515625, 123.59581756591797, 96.65691375732422, 99.3010025024414, 121.48583221435547, 107.78268432617188, 104.3053207397461, 125.30245971679688, 137.07826232910156, 111.65370178222656, 97.3958511352539, 102.66001892089844, 90.61719512939453, 87.25022888183594, 133.54852294921875, 107.53343200683594, 100.56719207763672, 113.63953399658203, 93.60072326660156, 104.83160400390625, 102.26768493652344, 98.21064758300781, 89.43705749511719, 85.02140808105469, 99.44188690185547, 79.0145034790039, 93.4935302734375, 102.40531921386719, 85.13813781738281, 100.22036743164062, 81.07400512695312, 80.54969024658203, 134.36558532714844, 76.9443130493164, 128.3252410888672, 73.59261322021484, 127.22171020507812, 83.15751647949219, 144.64926147460938, 75.74229431152344, 87.93705749511719, 74.1457290649414, 83.56964111328125, 76.29654693603516, 75.1419906616211, 122.3696517944336, 74.89215087890625, 93.94756317138672, 71.12657165527344, 70.21553039550781, 96.51750183105469, 80.58753967285156, 70.54962158203125, 107.39281463623047, 71.9801254272461, 71.64481353759766, 105.32122802734375, 103.62894439697266, 85.09033203125, 83.78540802001953]}],\n",
              "                        {\"template\": {\"data\": {\"bar\": [{\"error_x\": {\"color\": \"#2a3f5f\"}, \"error_y\": {\"color\": \"#2a3f5f\"}, \"marker\": {\"line\": {\"color\": \"white\", \"width\": 0.5}}, \"type\": \"bar\"}], \"barpolar\": [{\"marker\": {\"line\": {\"color\": \"white\", \"width\": 0.5}}, \"type\": \"barpolar\"}], \"carpet\": [{\"aaxis\": {\"endlinecolor\": \"#2a3f5f\", \"gridcolor\": \"#C8D4E3\", \"linecolor\": \"#C8D4E3\", \"minorgridcolor\": \"#C8D4E3\", \"startlinecolor\": \"#2a3f5f\"}, \"baxis\": {\"endlinecolor\": \"#2a3f5f\", \"gridcolor\": \"#C8D4E3\", \"linecolor\": \"#C8D4E3\", \"minorgridcolor\": \"#C8D4E3\", \"startlinecolor\": \"#2a3f5f\"}, \"type\": \"carpet\"}], \"choropleth\": [{\"colorbar\": {\"outlinewidth\": 0, \"ticks\": \"\"}, \"type\": \"choropleth\"}], \"contour\": [{\"colorbar\": {\"outlinewidth\": 0, \"ticks\": \"\"}, \"colorscale\": [[0.0, \"#0d0887\"], [0.1111111111111111, \"#46039f\"], [0.2222222222222222, \"#7201a8\"], [0.3333333333333333, \"#9c179e\"], [0.4444444444444444, \"#bd3786\"], [0.5555555555555556, \"#d8576b\"], [0.6666666666666666, \"#ed7953\"], [0.7777777777777778, \"#fb9f3a\"], [0.8888888888888888, \"#fdca26\"], [1.0, \"#f0f921\"]], \"type\": \"contour\"}], \"contourcarpet\": [{\"colorbar\": {\"outlinewidth\": 0, \"ticks\": \"\"}, \"type\": \"contourcarpet\"}], \"heatmap\": [{\"colorbar\": {\"outlinewidth\": 0, \"ticks\": \"\"}, \"colorscale\": [[0.0, \"#0d0887\"], [0.1111111111111111, \"#46039f\"], [0.2222222222222222, \"#7201a8\"], [0.3333333333333333, \"#9c179e\"], [0.4444444444444444, \"#bd3786\"], [0.5555555555555556, \"#d8576b\"], [0.6666666666666666, \"#ed7953\"], [0.7777777777777778, \"#fb9f3a\"], [0.8888888888888888, \"#fdca26\"], [1.0, \"#f0f921\"]], \"type\": \"heatmap\"}], \"heatmapgl\": [{\"colorbar\": {\"outlinewidth\": 0, \"ticks\": \"\"}, \"colorscale\": [[0.0, \"#0d0887\"], [0.1111111111111111, \"#46039f\"], [0.2222222222222222, \"#7201a8\"], [0.3333333333333333, \"#9c179e\"], [0.4444444444444444, \"#bd3786\"], [0.5555555555555556, \"#d8576b\"], [0.6666666666666666, \"#ed7953\"], [0.7777777777777778, \"#fb9f3a\"], [0.8888888888888888, \"#fdca26\"], [1.0, \"#f0f921\"]], \"type\": \"heatmapgl\"}], \"histogram\": [{\"marker\": {\"colorbar\": {\"outlinewidth\": 0, \"ticks\": \"\"}}, \"type\": \"histogram\"}], \"histogram2d\": [{\"colorbar\": {\"outlinewidth\": 0, \"ticks\": \"\"}, \"colorscale\": [[0.0, \"#0d0887\"], [0.1111111111111111, \"#46039f\"], [0.2222222222222222, \"#7201a8\"], [0.3333333333333333, \"#9c179e\"], [0.4444444444444444, \"#bd3786\"], [0.5555555555555556, \"#d8576b\"], [0.6666666666666666, \"#ed7953\"], [0.7777777777777778, \"#fb9f3a\"], [0.8888888888888888, \"#fdca26\"], [1.0, \"#f0f921\"]], \"type\": \"histogram2d\"}], \"histogram2dcontour\": [{\"colorbar\": {\"outlinewidth\": 0, \"ticks\": \"\"}, \"colorscale\": [[0.0, \"#0d0887\"], [0.1111111111111111, \"#46039f\"], [0.2222222222222222, \"#7201a8\"], [0.3333333333333333, \"#9c179e\"], [0.4444444444444444, \"#bd3786\"], [0.5555555555555556, \"#d8576b\"], [0.6666666666666666, \"#ed7953\"], [0.7777777777777778, \"#fb9f3a\"], [0.8888888888888888, \"#fdca26\"], [1.0, \"#f0f921\"]], \"type\": \"histogram2dcontour\"}], \"mesh3d\": [{\"colorbar\": {\"outlinewidth\": 0, \"ticks\": \"\"}, \"type\": \"mesh3d\"}], \"parcoords\": [{\"line\": {\"colorbar\": {\"outlinewidth\": 0, \"ticks\": \"\"}}, \"type\": \"parcoords\"}], \"pie\": [{\"automargin\": true, \"type\": \"pie\"}], \"scatter\": [{\"marker\": {\"colorbar\": {\"outlinewidth\": 0, \"ticks\": \"\"}}, \"type\": \"scatter\"}], \"scatter3d\": [{\"line\": {\"colorbar\": {\"outlinewidth\": 0, \"ticks\": \"\"}}, \"marker\": {\"colorbar\": {\"outlinewidth\": 0, \"ticks\": \"\"}}, \"type\": \"scatter3d\"}], \"scattercarpet\": [{\"marker\": {\"colorbar\": {\"outlinewidth\": 0, \"ticks\": \"\"}}, \"type\": \"scattercarpet\"}], \"scattergeo\": [{\"marker\": {\"colorbar\": {\"outlinewidth\": 0, \"ticks\": \"\"}}, \"type\": \"scattergeo\"}], \"scattergl\": [{\"marker\": {\"colorbar\": {\"outlinewidth\": 0, \"ticks\": \"\"}}, \"type\": \"scattergl\"}], \"scattermapbox\": [{\"marker\": {\"colorbar\": {\"outlinewidth\": 0, \"ticks\": \"\"}}, \"type\": \"scattermapbox\"}], \"scatterpolar\": [{\"marker\": {\"colorbar\": {\"outlinewidth\": 0, \"ticks\": \"\"}}, \"type\": \"scatterpolar\"}], \"scatterpolargl\": [{\"marker\": {\"colorbar\": {\"outlinewidth\": 0, \"ticks\": \"\"}}, \"type\": \"scatterpolargl\"}], \"scatterternary\": [{\"marker\": {\"colorbar\": {\"outlinewidth\": 0, \"ticks\": \"\"}}, \"type\": \"scatterternary\"}], \"surface\": [{\"colorbar\": {\"outlinewidth\": 0, \"ticks\": \"\"}, \"colorscale\": [[0.0, \"#0d0887\"], [0.1111111111111111, \"#46039f\"], [0.2222222222222222, \"#7201a8\"], [0.3333333333333333, \"#9c179e\"], [0.4444444444444444, \"#bd3786\"], [0.5555555555555556, \"#d8576b\"], [0.6666666666666666, \"#ed7953\"], [0.7777777777777778, \"#fb9f3a\"], [0.8888888888888888, \"#fdca26\"], [1.0, \"#f0f921\"]], \"type\": \"surface\"}], \"table\": [{\"cells\": {\"fill\": {\"color\": \"#EBF0F8\"}, \"line\": {\"color\": \"white\"}}, \"header\": {\"fill\": {\"color\": \"#C8D4E3\"}, \"line\": {\"color\": \"white\"}}, \"type\": \"table\"}]}, \"layout\": {\"annotationdefaults\": {\"arrowcolor\": \"#2a3f5f\", \"arrowhead\": 0, \"arrowwidth\": 1}, \"coloraxis\": {\"colorbar\": {\"outlinewidth\": 0, \"ticks\": \"\"}}, \"colorscale\": {\"diverging\": [[0, \"#8e0152\"], [0.1, \"#c51b7d\"], [0.2, \"#de77ae\"], [0.3, \"#f1b6da\"], [0.4, \"#fde0ef\"], [0.5, \"#f7f7f7\"], [0.6, \"#e6f5d0\"], [0.7, \"#b8e186\"], [0.8, \"#7fbc41\"], [0.9, \"#4d9221\"], [1, \"#276419\"]], \"sequential\": [[0.0, \"#0d0887\"], [0.1111111111111111, \"#46039f\"], [0.2222222222222222, \"#7201a8\"], [0.3333333333333333, \"#9c179e\"], [0.4444444444444444, \"#bd3786\"], [0.5555555555555556, \"#d8576b\"], [0.6666666666666666, \"#ed7953\"], [0.7777777777777778, \"#fb9f3a\"], [0.8888888888888888, \"#fdca26\"], [1.0, \"#f0f921\"]], \"sequentialminus\": [[0.0, \"#0d0887\"], [0.1111111111111111, \"#46039f\"], [0.2222222222222222, \"#7201a8\"], [0.3333333333333333, \"#9c179e\"], [0.4444444444444444, \"#bd3786\"], [0.5555555555555556, \"#d8576b\"], [0.6666666666666666, \"#ed7953\"], [0.7777777777777778, \"#fb9f3a\"], [0.8888888888888888, \"#fdca26\"], [1.0, \"#f0f921\"]]}, \"colorway\": [\"#636efa\", \"#EF553B\", \"#00cc96\", \"#ab63fa\", \"#FFA15A\", \"#19d3f3\", \"#FF6692\", \"#B6E880\", \"#FF97FF\", \"#FECB52\"], \"font\": {\"color\": \"#2a3f5f\"}, \"geo\": {\"bgcolor\": \"white\", \"lakecolor\": \"white\", \"landcolor\": \"white\", \"showlakes\": true, \"showland\": true, \"subunitcolor\": \"#C8D4E3\"}, \"hoverlabel\": {\"align\": \"left\"}, \"hovermode\": \"closest\", \"mapbox\": {\"style\": \"light\"}, \"paper_bgcolor\": \"white\", \"plot_bgcolor\": \"white\", \"polar\": {\"angularaxis\": {\"gridcolor\": \"#EBF0F8\", \"linecolor\": \"#EBF0F8\", \"ticks\": \"\"}, \"bgcolor\": \"white\", \"radialaxis\": {\"gridcolor\": \"#EBF0F8\", \"linecolor\": \"#EBF0F8\", \"ticks\": \"\"}}, \"scene\": {\"xaxis\": {\"backgroundcolor\": \"white\", \"gridcolor\": \"#DFE8F3\", \"gridwidth\": 2, \"linecolor\": \"#EBF0F8\", \"showbackground\": true, \"ticks\": \"\", \"zerolinecolor\": \"#EBF0F8\"}, \"yaxis\": {\"backgroundcolor\": \"white\", \"gridcolor\": \"#DFE8F3\", \"gridwidth\": 2, \"linecolor\": \"#EBF0F8\", \"showbackground\": true, \"ticks\": \"\", \"zerolinecolor\": \"#EBF0F8\"}, \"zaxis\": {\"backgroundcolor\": \"white\", \"gridcolor\": \"#DFE8F3\", \"gridwidth\": 2, \"linecolor\": \"#EBF0F8\", \"showbackground\": true, \"ticks\": \"\", \"zerolinecolor\": \"#EBF0F8\"}}, \"shapedefaults\": {\"line\": {\"color\": \"#2a3f5f\"}}, \"ternary\": {\"aaxis\": {\"gridcolor\": \"#DFE8F3\", \"linecolor\": \"#A2B1C6\", \"ticks\": \"\"}, \"baxis\": {\"gridcolor\": \"#DFE8F3\", \"linecolor\": \"#A2B1C6\", \"ticks\": \"\"}, \"bgcolor\": \"white\", \"caxis\": {\"gridcolor\": \"#DFE8F3\", \"linecolor\": \"#A2B1C6\", \"ticks\": \"\"}}, \"title\": {\"x\": 0.05}, \"xaxis\": {\"automargin\": true, \"gridcolor\": \"#EBF0F8\", \"linecolor\": \"#EBF0F8\", \"ticks\": \"\", \"title\": {\"standoff\": 15}, \"zerolinecolor\": \"#EBF0F8\", \"zerolinewidth\": 2}, \"yaxis\": {\"automargin\": true, \"gridcolor\": \"#EBF0F8\", \"linecolor\": \"#EBF0F8\", \"ticks\": \"\", \"title\": {\"standoff\": 15}, \"zerolinecolor\": \"#EBF0F8\", \"zerolinewidth\": 2}}}, \"title\": {\"text\": \"An\\u00e1lise de erros\"}, \"xaxis\": {\"tickangle\": 80, \"title\": {\"text\": \"Epochs\"}}, \"yaxis\": {\"title\": {\"text\": \"MAE\"}}},\n",
              "                        {\"responsive\": true}\n",
              "                    ).then(function(){\n",
              "                            \n",
              "var gd = document.getElementById('0ac63e99-64dc-4672-b8c1-a8ebdf7a2e00');\n",
              "var x = new MutationObserver(function (mutations, observer) {{\n",
              "        var display = window.getComputedStyle(gd).display;\n",
              "        if (!display || display === 'none') {{\n",
              "            console.log([gd, 'removed!']);\n",
              "            Plotly.purge(gd);\n",
              "            observer.disconnect();\n",
              "        }}\n",
              "}});\n",
              "\n",
              "// Listen for the removal of the full notebook cells\n",
              "var notebookContainer = gd.closest('#notebook-container');\n",
              "if (notebookContainer) {{\n",
              "    x.observe(notebookContainer, {childList: true});\n",
              "}}\n",
              "\n",
              "// Listen for the clearing of the current output cell\n",
              "var outputEl = gd.closest('.output');\n",
              "if (outputEl) {{\n",
              "    x.observe(outputEl, {childList: true});\n",
              "}}\n",
              "\n",
              "                        })\n",
              "                };\n",
              "                \n",
              "            </script>\n",
              "        </div>\n",
              "</body>\n",
              "</html>"
            ]
          },
          "metadata": {}
        }
      ]
    },
    {
      "cell_type": "code",
      "metadata": {
        "colab": {
          "base_uri": "https://localhost:8080/"
        },
        "id": "rAVUZk4SRP1h",
        "outputId": "090def41-d9a1-4c04-ef05-943d72b1e4ee"
      },
      "source": [
        "loss, mae, mse = modelo.evaluate(dfteste_normalizado, labels_teste, verbose=2)\n",
        "print(\"Erro médio absoluto - dataset de teste: {:5.2f} y\".format(mae))"
      ],
      "execution_count": 24,
      "outputs": [
        {
          "output_type": "stream",
          "name": "stdout",
          "text": [
            "1/1 - 0s - loss: 10812.9473 - mae: 84.6683 - mse: 10812.9473\n",
            "Erro médio absoluto - dataset de teste: 84.67 y\n"
          ]
        }
      ]
    },
    {
      "cell_type": "markdown",
      "metadata": {
        "id": "Pqkt2Jpbax0u"
      },
      "source": [
        "**Prever valores**"
      ]
    },
    {
      "cell_type": "code",
      "metadata": {
        "id": "WQN3tpx_RPy6"
      },
      "source": [
        "label_previsao = modelo.predict(dfteste_normalizado).flatten()"
      ],
      "execution_count": 25,
      "outputs": []
    },
    {
      "cell_type": "code",
      "metadata": {
        "id": "oqGejeeKd4D3"
      },
      "source": [
        "vdc = []\n",
        "for x in dfteste.index:\n",
        "  a = dfteste.loc[x]['ano']\n",
        "  da = dfteste.loc[x]['diaAno']\n",
        "  dc = datetime.strptime(f'{a}' + \"-\" + f'{da}', \"%Y-%j\").strftime(\"%d-%m-%Y\")\n",
        "  vdc.append(dc)"
      ],
      "execution_count": 26,
      "outputs": []
    },
    {
      "cell_type": "code",
      "metadata": {
        "id": "6zu12N0lRPwy"
      },
      "source": [
        "dfprev = pd.DataFrame()\n",
        "dfprev['Realizado'] = labels_teste.to_list()\n",
        "dfprev['Previsão'] = label_previsao.tolist()\n",
        "dfprev['Período'] = vdc"
      ],
      "execution_count": 27,
      "outputs": []
    },
    {
      "cell_type": "code",
      "metadata": {
        "colab": {
          "base_uri": "https://localhost:8080/",
          "height": 542
        },
        "id": "4s4kQBSkHrUf",
        "outputId": "850dc6ee-683d-48cb-eda3-b5b5125991f5"
      },
      "source": [
        "scatter(dfprev, ['Período'], ['Realizado', 'Previsão'], \n",
        "        txt_titulo='Análise de Comparação - Realizado x Previsão',\n",
        "        txt_xaxis='Período', txt_yaxis='Total de Vendas')"
      ],
      "execution_count": 28,
      "outputs": [
        {
          "output_type": "display_data",
          "data": {
            "text/html": [
              "<html>\n",
              "<head><meta charset=\"utf-8\" /></head>\n",
              "<body>\n",
              "    <div>\n",
              "            <script src=\"https://cdnjs.cloudflare.com/ajax/libs/mathjax/2.7.5/MathJax.js?config=TeX-AMS-MML_SVG\"></script><script type=\"text/javascript\">if (window.MathJax) {MathJax.Hub.Config({SVG: {font: \"STIX-Web\"}});}</script>\n",
              "                <script type=\"text/javascript\">window.PlotlyConfig = {MathJaxConfig: 'local'};</script>\n",
              "        <script src=\"https://cdn.plot.ly/plotly-latest.min.js\"></script>    \n",
              "            <div id=\"40f4d7fb-cbf0-427d-b20e-427e49ad064e\" class=\"plotly-graph-div\" style=\"height:525px; width:100%;\"></div>\n",
              "            <script type=\"text/javascript\">\n",
              "                \n",
              "                    window.PLOTLYENV=window.PLOTLYENV || {};\n",
              "                    \n",
              "                if (document.getElementById(\"40f4d7fb-cbf0-427d-b20e-427e49ad064e\")) {\n",
              "                    Plotly.newPlot(\n",
              "                        '40f4d7fb-cbf0-427d-b20e-427e49ad064e',\n",
              "                        [{\"mode\": \"lines+markers\", \"name\": \"Realizado\", \"type\": \"scatter\", \"x\": [\"01-01-2021\", \"01-02-2021\", \"01-03-2021\", \"01-04-2021\", \"01-05-2021\", \"01-06-2021\", \"01-07-2021\", \"01-08-2021\", \"01-09-2021\", \"01-10-2021\", \"01-11-2021\", \"01-12-2021\"], \"y\": [750.0, 750.0, 1000.0, 1000.0, 1000.0, 2000.0, 1000.0, 1000.0, 1000.0, 1000.0, 1000.0, 1500.0]}, {\"mode\": \"lines+markers\", \"name\": \"Previs\\u00e3o\", \"type\": \"scatter\", \"x\": [\"01-01-2021\", \"01-02-2021\", \"01-03-2021\", \"01-04-2021\", \"01-05-2021\", \"01-06-2021\", \"01-07-2021\", \"01-08-2021\", \"01-09-2021\", \"01-10-2021\", \"01-11-2021\", \"01-12-2021\"], \"y\": [865.9222412109375, 890.7635498046875, 966.5985107421875, 1053.48046875, 1148.7423095703125, 1959.290283203125, 1059.9356689453125, 1008.8612060546875, 1023.0206909179688, 1069.94677734375, 1224.0855712890625, 1402.8511962890625]}],\n",
              "                        {\"template\": {\"data\": {\"bar\": [{\"error_x\": {\"color\": \"#2a3f5f\"}, \"error_y\": {\"color\": \"#2a3f5f\"}, \"marker\": {\"line\": {\"color\": \"white\", \"width\": 0.5}}, \"type\": \"bar\"}], \"barpolar\": [{\"marker\": {\"line\": {\"color\": \"white\", \"width\": 0.5}}, \"type\": \"barpolar\"}], \"carpet\": [{\"aaxis\": {\"endlinecolor\": \"#2a3f5f\", \"gridcolor\": \"#C8D4E3\", \"linecolor\": \"#C8D4E3\", \"minorgridcolor\": \"#C8D4E3\", \"startlinecolor\": \"#2a3f5f\"}, \"baxis\": {\"endlinecolor\": \"#2a3f5f\", \"gridcolor\": \"#C8D4E3\", \"linecolor\": \"#C8D4E3\", \"minorgridcolor\": \"#C8D4E3\", \"startlinecolor\": \"#2a3f5f\"}, \"type\": \"carpet\"}], \"choropleth\": [{\"colorbar\": {\"outlinewidth\": 0, \"ticks\": \"\"}, \"type\": \"choropleth\"}], \"contour\": [{\"colorbar\": {\"outlinewidth\": 0, \"ticks\": \"\"}, \"colorscale\": [[0.0, \"#0d0887\"], [0.1111111111111111, \"#46039f\"], [0.2222222222222222, \"#7201a8\"], [0.3333333333333333, \"#9c179e\"], [0.4444444444444444, \"#bd3786\"], [0.5555555555555556, \"#d8576b\"], [0.6666666666666666, \"#ed7953\"], [0.7777777777777778, \"#fb9f3a\"], [0.8888888888888888, \"#fdca26\"], [1.0, \"#f0f921\"]], \"type\": \"contour\"}], \"contourcarpet\": [{\"colorbar\": {\"outlinewidth\": 0, \"ticks\": \"\"}, \"type\": \"contourcarpet\"}], \"heatmap\": [{\"colorbar\": {\"outlinewidth\": 0, \"ticks\": \"\"}, \"colorscale\": [[0.0, \"#0d0887\"], [0.1111111111111111, \"#46039f\"], [0.2222222222222222, \"#7201a8\"], [0.3333333333333333, \"#9c179e\"], [0.4444444444444444, \"#bd3786\"], [0.5555555555555556, \"#d8576b\"], [0.6666666666666666, \"#ed7953\"], [0.7777777777777778, \"#fb9f3a\"], [0.8888888888888888, \"#fdca26\"], [1.0, \"#f0f921\"]], \"type\": \"heatmap\"}], \"heatmapgl\": [{\"colorbar\": {\"outlinewidth\": 0, \"ticks\": \"\"}, \"colorscale\": [[0.0, \"#0d0887\"], [0.1111111111111111, \"#46039f\"], [0.2222222222222222, \"#7201a8\"], [0.3333333333333333, \"#9c179e\"], [0.4444444444444444, \"#bd3786\"], [0.5555555555555556, \"#d8576b\"], [0.6666666666666666, \"#ed7953\"], [0.7777777777777778, \"#fb9f3a\"], [0.8888888888888888, \"#fdca26\"], [1.0, \"#f0f921\"]], \"type\": \"heatmapgl\"}], \"histogram\": [{\"marker\": {\"colorbar\": {\"outlinewidth\": 0, \"ticks\": \"\"}}, \"type\": \"histogram\"}], \"histogram2d\": [{\"colorbar\": {\"outlinewidth\": 0, \"ticks\": \"\"}, \"colorscale\": [[0.0, \"#0d0887\"], [0.1111111111111111, \"#46039f\"], [0.2222222222222222, \"#7201a8\"], [0.3333333333333333, \"#9c179e\"], [0.4444444444444444, \"#bd3786\"], [0.5555555555555556, \"#d8576b\"], [0.6666666666666666, \"#ed7953\"], [0.7777777777777778, \"#fb9f3a\"], [0.8888888888888888, \"#fdca26\"], [1.0, \"#f0f921\"]], \"type\": \"histogram2d\"}], \"histogram2dcontour\": [{\"colorbar\": {\"outlinewidth\": 0, \"ticks\": \"\"}, \"colorscale\": [[0.0, \"#0d0887\"], [0.1111111111111111, \"#46039f\"], [0.2222222222222222, \"#7201a8\"], [0.3333333333333333, \"#9c179e\"], [0.4444444444444444, \"#bd3786\"], [0.5555555555555556, \"#d8576b\"], [0.6666666666666666, \"#ed7953\"], [0.7777777777777778, \"#fb9f3a\"], [0.8888888888888888, \"#fdca26\"], [1.0, \"#f0f921\"]], \"type\": \"histogram2dcontour\"}], \"mesh3d\": [{\"colorbar\": {\"outlinewidth\": 0, \"ticks\": \"\"}, \"type\": \"mesh3d\"}], \"parcoords\": [{\"line\": {\"colorbar\": {\"outlinewidth\": 0, \"ticks\": \"\"}}, \"type\": \"parcoords\"}], \"pie\": [{\"automargin\": true, \"type\": \"pie\"}], \"scatter\": [{\"marker\": {\"colorbar\": {\"outlinewidth\": 0, \"ticks\": \"\"}}, \"type\": \"scatter\"}], \"scatter3d\": [{\"line\": {\"colorbar\": {\"outlinewidth\": 0, \"ticks\": \"\"}}, \"marker\": {\"colorbar\": {\"outlinewidth\": 0, \"ticks\": \"\"}}, \"type\": \"scatter3d\"}], \"scattercarpet\": [{\"marker\": {\"colorbar\": {\"outlinewidth\": 0, \"ticks\": \"\"}}, \"type\": \"scattercarpet\"}], \"scattergeo\": [{\"marker\": {\"colorbar\": {\"outlinewidth\": 0, \"ticks\": \"\"}}, \"type\": \"scattergeo\"}], \"scattergl\": [{\"marker\": {\"colorbar\": {\"outlinewidth\": 0, \"ticks\": \"\"}}, \"type\": \"scattergl\"}], \"scattermapbox\": [{\"marker\": {\"colorbar\": {\"outlinewidth\": 0, \"ticks\": \"\"}}, \"type\": \"scattermapbox\"}], \"scatterpolar\": [{\"marker\": {\"colorbar\": {\"outlinewidth\": 0, \"ticks\": \"\"}}, \"type\": \"scatterpolar\"}], \"scatterpolargl\": [{\"marker\": {\"colorbar\": {\"outlinewidth\": 0, \"ticks\": \"\"}}, \"type\": \"scatterpolargl\"}], \"scatterternary\": [{\"marker\": {\"colorbar\": {\"outlinewidth\": 0, \"ticks\": \"\"}}, \"type\": \"scatterternary\"}], \"surface\": [{\"colorbar\": {\"outlinewidth\": 0, \"ticks\": \"\"}, \"colorscale\": [[0.0, \"#0d0887\"], [0.1111111111111111, \"#46039f\"], [0.2222222222222222, \"#7201a8\"], [0.3333333333333333, \"#9c179e\"], [0.4444444444444444, \"#bd3786\"], [0.5555555555555556, \"#d8576b\"], [0.6666666666666666, \"#ed7953\"], [0.7777777777777778, \"#fb9f3a\"], [0.8888888888888888, \"#fdca26\"], [1.0, \"#f0f921\"]], \"type\": \"surface\"}], \"table\": [{\"cells\": {\"fill\": {\"color\": \"#EBF0F8\"}, \"line\": {\"color\": \"white\"}}, \"header\": {\"fill\": {\"color\": \"#C8D4E3\"}, \"line\": {\"color\": \"white\"}}, \"type\": \"table\"}]}, \"layout\": {\"annotationdefaults\": {\"arrowcolor\": \"#2a3f5f\", \"arrowhead\": 0, \"arrowwidth\": 1}, \"coloraxis\": {\"colorbar\": {\"outlinewidth\": 0, \"ticks\": \"\"}}, \"colorscale\": {\"diverging\": [[0, \"#8e0152\"], [0.1, \"#c51b7d\"], [0.2, \"#de77ae\"], [0.3, \"#f1b6da\"], [0.4, \"#fde0ef\"], [0.5, \"#f7f7f7\"], [0.6, \"#e6f5d0\"], [0.7, \"#b8e186\"], [0.8, \"#7fbc41\"], [0.9, \"#4d9221\"], [1, \"#276419\"]], \"sequential\": [[0.0, \"#0d0887\"], [0.1111111111111111, \"#46039f\"], [0.2222222222222222, \"#7201a8\"], [0.3333333333333333, \"#9c179e\"], [0.4444444444444444, \"#bd3786\"], [0.5555555555555556, \"#d8576b\"], [0.6666666666666666, \"#ed7953\"], [0.7777777777777778, \"#fb9f3a\"], [0.8888888888888888, \"#fdca26\"], [1.0, \"#f0f921\"]], \"sequentialminus\": [[0.0, \"#0d0887\"], [0.1111111111111111, \"#46039f\"], [0.2222222222222222, \"#7201a8\"], [0.3333333333333333, \"#9c179e\"], [0.4444444444444444, \"#bd3786\"], [0.5555555555555556, \"#d8576b\"], [0.6666666666666666, \"#ed7953\"], [0.7777777777777778, \"#fb9f3a\"], [0.8888888888888888, \"#fdca26\"], [1.0, \"#f0f921\"]]}, \"colorway\": [\"#636efa\", \"#EF553B\", \"#00cc96\", \"#ab63fa\", \"#FFA15A\", \"#19d3f3\", \"#FF6692\", \"#B6E880\", \"#FF97FF\", \"#FECB52\"], \"font\": {\"color\": \"#2a3f5f\"}, \"geo\": {\"bgcolor\": \"white\", \"lakecolor\": \"white\", \"landcolor\": \"white\", \"showlakes\": true, \"showland\": true, \"subunitcolor\": \"#C8D4E3\"}, \"hoverlabel\": {\"align\": \"left\"}, \"hovermode\": \"closest\", \"mapbox\": {\"style\": \"light\"}, \"paper_bgcolor\": \"white\", \"plot_bgcolor\": \"white\", \"polar\": {\"angularaxis\": {\"gridcolor\": \"#EBF0F8\", \"linecolor\": \"#EBF0F8\", \"ticks\": \"\"}, \"bgcolor\": \"white\", \"radialaxis\": {\"gridcolor\": \"#EBF0F8\", \"linecolor\": \"#EBF0F8\", \"ticks\": \"\"}}, \"scene\": {\"xaxis\": {\"backgroundcolor\": \"white\", \"gridcolor\": \"#DFE8F3\", \"gridwidth\": 2, \"linecolor\": \"#EBF0F8\", \"showbackground\": true, \"ticks\": \"\", \"zerolinecolor\": \"#EBF0F8\"}, \"yaxis\": {\"backgroundcolor\": \"white\", \"gridcolor\": \"#DFE8F3\", \"gridwidth\": 2, \"linecolor\": \"#EBF0F8\", \"showbackground\": true, \"ticks\": \"\", \"zerolinecolor\": \"#EBF0F8\"}, \"zaxis\": {\"backgroundcolor\": \"white\", \"gridcolor\": \"#DFE8F3\", \"gridwidth\": 2, \"linecolor\": \"#EBF0F8\", \"showbackground\": true, \"ticks\": \"\", \"zerolinecolor\": \"#EBF0F8\"}}, \"shapedefaults\": {\"line\": {\"color\": \"#2a3f5f\"}}, \"ternary\": {\"aaxis\": {\"gridcolor\": \"#DFE8F3\", \"linecolor\": \"#A2B1C6\", \"ticks\": \"\"}, \"baxis\": {\"gridcolor\": \"#DFE8F3\", \"linecolor\": \"#A2B1C6\", \"ticks\": \"\"}, \"bgcolor\": \"white\", \"caxis\": {\"gridcolor\": \"#DFE8F3\", \"linecolor\": \"#A2B1C6\", \"ticks\": \"\"}}, \"title\": {\"x\": 0.05}, \"xaxis\": {\"automargin\": true, \"gridcolor\": \"#EBF0F8\", \"linecolor\": \"#EBF0F8\", \"ticks\": \"\", \"title\": {\"standoff\": 15}, \"zerolinecolor\": \"#EBF0F8\", \"zerolinewidth\": 2}, \"yaxis\": {\"automargin\": true, \"gridcolor\": \"#EBF0F8\", \"linecolor\": \"#EBF0F8\", \"ticks\": \"\", \"title\": {\"standoff\": 15}, \"zerolinecolor\": \"#EBF0F8\", \"zerolinewidth\": 2}}}, \"title\": {\"text\": \"An\\u00e1lise de Compara\\u00e7\\u00e3o - Realizado x Previs\\u00e3o\"}, \"xaxis\": {\"tickangle\": 80, \"title\": {\"text\": \"Per\\u00edodo\"}}, \"yaxis\": {\"title\": {\"text\": \"Total de Vendas\"}}},\n",
              "                        {\"responsive\": true}\n",
              "                    ).then(function(){\n",
              "                            \n",
              "var gd = document.getElementById('40f4d7fb-cbf0-427d-b20e-427e49ad064e');\n",
              "var x = new MutationObserver(function (mutations, observer) {{\n",
              "        var display = window.getComputedStyle(gd).display;\n",
              "        if (!display || display === 'none') {{\n",
              "            console.log([gd, 'removed!']);\n",
              "            Plotly.purge(gd);\n",
              "            observer.disconnect();\n",
              "        }}\n",
              "}});\n",
              "\n",
              "// Listen for the removal of the full notebook cells\n",
              "var notebookContainer = gd.closest('#notebook-container');\n",
              "if (notebookContainer) {{\n",
              "    x.observe(notebookContainer, {childList: true});\n",
              "}}\n",
              "\n",
              "// Listen for the clearing of the current output cell\n",
              "var outputEl = gd.closest('.output');\n",
              "if (outputEl) {{\n",
              "    x.observe(outputEl, {childList: true});\n",
              "}}\n",
              "\n",
              "                        })\n",
              "                };\n",
              "                \n",
              "            </script>\n",
              "        </div>\n",
              "</body>\n",
              "</html>"
            ]
          },
          "metadata": {}
        }
      ]
    }
  ]
}